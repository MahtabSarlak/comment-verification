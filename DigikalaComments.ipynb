{
  "cells": [
    {
      "cell_type": "code",
      "execution_count": 1,
      "metadata": {
        "colab": {
          "base_uri": "https://localhost:8080/"
        },
        "id": "npbpggTUAsbe",
        "outputId": "2a3c4258-6289-4400-df79-fdcf2108a768"
      },
      "outputs": [
        {
          "output_type": "stream",
          "name": "stdout",
          "text": [
            "Mounted at /content/drive\n"
          ]
        }
      ],
      "source": [
        "from google.colab import drive\n",
        " \n",
        "# Accessing My Google Drive\n",
        "drive.mount('/content/drive')"
      ]
    },
    {
      "cell_type": "code",
      "execution_count": 2,
      "metadata": {
        "colab": {
          "base_uri": "https://localhost:8080/"
        },
        "id": "aaTHF2p4AuTl",
        "outputId": "3a8ccbee-e36b-4255-b06b-adb94ceb1e17"
      },
      "outputs": [
        {
          "output_type": "stream",
          "name": "stdout",
          "text": [
            "Collecting hazm\n",
            "  Downloading hazm-0.7.0-py3-none-any.whl (316 kB)\n",
            "\u001b[K     |████████████████████████████████| 316 kB 5.2 MB/s \n",
            "\u001b[?25hCollecting nltk==3.3\n",
            "  Downloading nltk-3.3.0.zip (1.4 MB)\n",
            "\u001b[K     |████████████████████████████████| 1.4 MB 25.9 MB/s \n",
            "\u001b[?25hCollecting libwapiti>=0.2.1\n",
            "  Downloading libwapiti-0.2.1.tar.gz (233 kB)\n",
            "\u001b[K     |████████████████████████████████| 233 kB 39.2 MB/s \n",
            "\u001b[?25hRequirement already satisfied: six in /usr/local/lib/python3.7/dist-packages (from nltk==3.3->hazm) (1.15.0)\n",
            "Building wheels for collected packages: nltk, libwapiti\n",
            "  Building wheel for nltk (setup.py) ... \u001b[?25l\u001b[?25hdone\n",
            "  Created wheel for nltk: filename=nltk-3.3-py3-none-any.whl size=1394486 sha256=c0d036c12061fa078c5fac9e3f29860d6c04bd6b46d83e3784d9bae33bef8e93\n",
            "  Stored in directory: /root/.cache/pip/wheels/9b/fd/0c/d92302c876e5de87ebd7fc0979d82edb93e2d8d768bf71fac4\n",
            "  Building wheel for libwapiti (setup.py) ... \u001b[?25l\u001b[?25hdone\n",
            "  Created wheel for libwapiti: filename=libwapiti-0.2.1-cp37-cp37m-linux_x86_64.whl size=154687 sha256=5acc37a791cc90afebf97895996504d4c45c88a50a6b27e715fbe9ced2545867\n",
            "  Stored in directory: /root/.cache/pip/wheels/ab/b2/5b/0fe4b8f5c0e65341e8ea7bb3f4a6ebabfe8b1ac31322392dbf\n",
            "Successfully built nltk libwapiti\n",
            "Installing collected packages: nltk, libwapiti, hazm\n",
            "  Attempting uninstall: nltk\n",
            "    Found existing installation: nltk 3.2.5\n",
            "    Uninstalling nltk-3.2.5:\n",
            "      Successfully uninstalled nltk-3.2.5\n",
            "Successfully installed hazm-0.7.0 libwapiti-0.2.1 nltk-3.3\n",
            "Requirement already satisfied: tqdm in /usr/local/lib/python3.7/dist-packages (4.62.3)\n"
          ]
        }
      ],
      "source": [
        "!pip install hazm\n",
        "!pip install tqdm\n",
        "\n",
        "from tqdm import tqdm\n",
        "import numpy as np\n",
        "import cv2 as cv\n",
        "import pandas as pd\n",
        "from hazm import *\n",
        "from sklearn.metrics import confusion_matrix\n",
        "from sklearn import metrics\n",
        "from sklearn.metrics import classification_report\n",
        "import math\n",
        "import re\n",
        "from sklearn.feature_extraction.text import CountVectorizer, TfidfTransformer, TfidfVectorizer\n",
        "from sklearn import linear_model\n",
        "from sklearn.naive_bayes import MultinomialNB\n",
        "from sklearn.svm import SVC\n",
        "from sklearn.neural_network import MLPClassifier\n",
        "from sklearn.linear_model import SGDClassifier\n",
        "from sklearn.metrics import precision_score, accuracy_score, recall_score\n",
        "import matplotlib.pyplot as plt\n",
        "from string import punctuation\n",
        "import random"
      ]
    },
    {
      "cell_type": "markdown",
      "metadata": {
        "id": "PNFiNqPcCuVp"
      },
      "source": [
        "# Load Data"
      ]
    },
    {
      "cell_type": "markdown",
      "metadata": {
        "id": "UbfyT47OCxJK"
      },
      "source": [
        "The data is from digikala contest, and it consists of comments made by users. The aim is to predict wether a comment is a spam or non-spam comment. \n",
        "This dataset has 160000 records for train and 20000 records for test. \n",
        "I only use 8000 records from trainSet, and split them for creating my own X_train and X_test."
      ]
    },
    {
      "cell_type": "markdown",
      "metadata": {
        "id": "ZiZ1UypbHghN"
      },
      "source": [
        "Here are the link to my dataset\n",
        "\n",
        "train dataset : https://drive.google.com/file/d/18PSMJoPB_j45zGVOnCmryKLSJhw0_htI/view?usp=sharing\n",
        "\n",
        "test dataset : https://drive.google.com/file/d/17vm0BbuJUrYCAIqB-anVhKFqNPSirlNL/view?usp=sharing"
      ]
    },
    {
      "cell_type": "code",
      "execution_count": 3,
      "metadata": {
        "id": "RFlnq6joCp6V"
      },
      "outputs": [],
      "source": [
        "url = '/content/drive/MyDrive/Colab Notebooks/master/term1/nlp/train.csv'\n",
        "df = pd.read_csv(url, engine='python',encoding='utf-8', error_bad_lines=False)\n",
        "test_url = '/content/drive/MyDrive/Colab Notebooks/master/term1/nlp/test.csv'\n",
        "df_test = pd.read_csv(test_url, engine='python',encoding='utf-8', error_bad_lines=False)"
      ]
    },
    {
      "cell_type": "code",
      "execution_count": 4,
      "metadata": {
        "colab": {
          "base_uri": "https://localhost:8080/",
          "height": 406
        },
        "id": "KichZWS_DqFA",
        "outputId": "9a3e5c3b-a46e-4e65-d9b5-dfcb27b03056"
      },
      "outputs": [
        {
          "output_type": "execute_result",
          "data": {
            "text/html": [
              "\n",
              "  <div id=\"df-d91f25ff-01f6-462b-b10d-4da4b9c93701\">\n",
              "    <div class=\"colab-df-container\">\n",
              "      <div>\n",
              "<style scoped>\n",
              "    .dataframe tbody tr th:only-of-type {\n",
              "        vertical-align: middle;\n",
              "    }\n",
              "\n",
              "    .dataframe tbody tr th {\n",
              "        vertical-align: top;\n",
              "    }\n",
              "\n",
              "    .dataframe thead th {\n",
              "        text-align: right;\n",
              "    }\n",
              "</style>\n",
              "<table border=\"1\" class=\"dataframe\">\n",
              "  <thead>\n",
              "    <tr style=\"text-align: right;\">\n",
              "      <th></th>\n",
              "      <th>id</th>\n",
              "      <th>title</th>\n",
              "      <th>comment</th>\n",
              "      <th>rate</th>\n",
              "      <th>verification_status</th>\n",
              "    </tr>\n",
              "  </thead>\n",
              "  <tbody>\n",
              "    <tr>\n",
              "      <th>40216</th>\n",
              "      <td>60216</td>\n",
              "      <td>شامپو فیروز</td>\n",
              "      <td>راضی بودم، به خصوص در شگفت انگیز ارزش خرید داره</td>\n",
              "      <td>60.0</td>\n",
              "      <td>1</td>\n",
              "    </tr>\n",
              "    <tr>\n",
              "      <th>40219</th>\n",
              "      <td>60219</td>\n",
              "      <td>عدم تطابق تصویر با محصول ارسالی یک گلس کاملا م...</td>\n",
              "      <td>یک گلس کاملا معمولی که از هر طرف چند میل فاصله...</td>\n",
              "      <td>40.0</td>\n",
              "      <td>1</td>\n",
              "    </tr>\n",
              "    <tr>\n",
              "      <th>40225</th>\n",
              "      <td>60225</td>\n",
              "      <td>انتقاد از تامین کننده</td>\n",
              "      <td>متاسفانه حتی بعد از یکبار مرجوع کردن کالا بدلی...</td>\n",
              "      <td>60.0</td>\n",
              "      <td>1</td>\n",
              "    </tr>\n",
              "    <tr>\n",
              "      <th>40228</th>\n",
              "      <td>60228</td>\n",
              "      <td>دوستان ایا این تیغ ۴ لبه به دسته ۶تیغ لبه میخوره؟</td>\n",
              "      <td>دوستان ایا این تیغ ۴ لبه به دسته ۶تیغ لبه میخوره؟</td>\n",
              "      <td>60.0</td>\n",
              "      <td>1</td>\n",
              "    </tr>\n",
              "    <tr>\n",
              "      <th>40235</th>\n",
              "      <td>60235</td>\n",
              "      <td>افتضاح</td>\n",
              "      <td>من این ریمل رو همیشه استفاده میکنم و همیشه از ...</td>\n",
              "      <td>20.0</td>\n",
              "      <td>1</td>\n",
              "    </tr>\n",
              "    <tr>\n",
              "      <th>...</th>\n",
              "      <td>...</td>\n",
              "      <td>...</td>\n",
              "      <td>...</td>\n",
              "      <td>...</td>\n",
              "      <td>...</td>\n",
              "    </tr>\n",
              "    <tr>\n",
              "      <th>159968</th>\n",
              "      <td>179968</td>\n",
              "      <td>یعنی چی ؟</td>\n",
              "      <td>قیمت درسته ؟ ۲۶۰ هزارتومان ؟ یعنی ایقد پول بی ...</td>\n",
              "      <td>15.0</td>\n",
              "      <td>1</td>\n",
              "    </tr>\n",
              "    <tr>\n",
              "      <th>159970</th>\n",
              "      <td>179970</td>\n",
              "      <td>تالفببتن</td>\n",
              "      <td>خولبببوکگا</td>\n",
              "      <td>0.0</td>\n",
              "      <td>1</td>\n",
              "    </tr>\n",
              "    <tr>\n",
              "      <th>159978</th>\n",
              "      <td>179978</td>\n",
              "      <td>زخمی بودن کالا و بسته بندی ضعیف</td>\n",
              "      <td>برای مادرم خریدم وقتی براش کادو بردم و ضربه گی...</td>\n",
              "      <td>0.0</td>\n",
              "      <td>1</td>\n",
              "    </tr>\n",
              "    <tr>\n",
              "      <th>159983</th>\n",
              "      <td>179983</td>\n",
              "      <td>افتضاه</td>\n",
              "      <td>مرگ بر دی جی کالا</td>\n",
              "      <td>0.0</td>\n",
              "      <td>1</td>\n",
              "    </tr>\n",
              "    <tr>\n",
              "      <th>159985</th>\n",
              "      <td>179985</td>\n",
              "      <td>خیلی خوبه</td>\n",
              "      <td>به پارس tu5  ۹۷ نمیخوره؟</td>\n",
              "      <td>60.0</td>\n",
              "      <td>1</td>\n",
              "    </tr>\n",
              "  </tbody>\n",
              "</table>\n",
              "<p>20000 rows × 5 columns</p>\n",
              "</div>\n",
              "      <button class=\"colab-df-convert\" onclick=\"convertToInteractive('df-d91f25ff-01f6-462b-b10d-4da4b9c93701')\"\n",
              "              title=\"Convert this dataframe to an interactive table.\"\n",
              "              style=\"display:none;\">\n",
              "        \n",
              "  <svg xmlns=\"http://www.w3.org/2000/svg\" height=\"24px\"viewBox=\"0 0 24 24\"\n",
              "       width=\"24px\">\n",
              "    <path d=\"M0 0h24v24H0V0z\" fill=\"none\"/>\n",
              "    <path d=\"M18.56 5.44l.94 2.06.94-2.06 2.06-.94-2.06-.94-.94-2.06-.94 2.06-2.06.94zm-11 1L8.5 8.5l.94-2.06 2.06-.94-2.06-.94L8.5 2.5l-.94 2.06-2.06.94zm10 10l.94 2.06.94-2.06 2.06-.94-2.06-.94-.94-2.06-.94 2.06-2.06.94z\"/><path d=\"M17.41 7.96l-1.37-1.37c-.4-.4-.92-.59-1.43-.59-.52 0-1.04.2-1.43.59L10.3 9.45l-7.72 7.72c-.78.78-.78 2.05 0 2.83L4 21.41c.39.39.9.59 1.41.59.51 0 1.02-.2 1.41-.59l7.78-7.78 2.81-2.81c.8-.78.8-2.07 0-2.86zM5.41 20L4 18.59l7.72-7.72 1.47 1.35L5.41 20z\"/>\n",
              "  </svg>\n",
              "      </button>\n",
              "      \n",
              "  <style>\n",
              "    .colab-df-container {\n",
              "      display:flex;\n",
              "      flex-wrap:wrap;\n",
              "      gap: 12px;\n",
              "    }\n",
              "\n",
              "    .colab-df-convert {\n",
              "      background-color: #E8F0FE;\n",
              "      border: none;\n",
              "      border-radius: 50%;\n",
              "      cursor: pointer;\n",
              "      display: none;\n",
              "      fill: #1967D2;\n",
              "      height: 32px;\n",
              "      padding: 0 0 0 0;\n",
              "      width: 32px;\n",
              "    }\n",
              "\n",
              "    .colab-df-convert:hover {\n",
              "      background-color: #E2EBFA;\n",
              "      box-shadow: 0px 1px 2px rgba(60, 64, 67, 0.3), 0px 1px 3px 1px rgba(60, 64, 67, 0.15);\n",
              "      fill: #174EA6;\n",
              "    }\n",
              "\n",
              "    [theme=dark] .colab-df-convert {\n",
              "      background-color: #3B4455;\n",
              "      fill: #D2E3FC;\n",
              "    }\n",
              "\n",
              "    [theme=dark] .colab-df-convert:hover {\n",
              "      background-color: #434B5C;\n",
              "      box-shadow: 0px 1px 3px 1px rgba(0, 0, 0, 0.15);\n",
              "      filter: drop-shadow(0px 1px 2px rgba(0, 0, 0, 0.3));\n",
              "      fill: #FFFFFF;\n",
              "    }\n",
              "  </style>\n",
              "\n",
              "      <script>\n",
              "        const buttonEl =\n",
              "          document.querySelector('#df-d91f25ff-01f6-462b-b10d-4da4b9c93701 button.colab-df-convert');\n",
              "        buttonEl.style.display =\n",
              "          google.colab.kernel.accessAllowed ? 'block' : 'none';\n",
              "\n",
              "        async function convertToInteractive(key) {\n",
              "          const element = document.querySelector('#df-d91f25ff-01f6-462b-b10d-4da4b9c93701');\n",
              "          const dataTable =\n",
              "            await google.colab.kernel.invokeFunction('convertToInteractive',\n",
              "                                                     [key], {});\n",
              "          if (!dataTable) return;\n",
              "\n",
              "          const docLinkHtml = 'Like what you see? Visit the ' +\n",
              "            '<a target=\"_blank\" href=https://colab.research.google.com/notebooks/data_table.ipynb>data table notebook</a>'\n",
              "            + ' to learn more about interactive tables.';\n",
              "          element.innerHTML = '';\n",
              "          dataTable['output_type'] = 'display_data';\n",
              "          await google.colab.output.renderOutput(dataTable, element);\n",
              "          const docLink = document.createElement('div');\n",
              "          docLink.innerHTML = docLinkHtml;\n",
              "          element.appendChild(docLink);\n",
              "        }\n",
              "      </script>\n",
              "    </div>\n",
              "  </div>\n",
              "  "
            ],
            "text/plain": [
              "            id  ... verification_status\n",
              "40216    60216  ...                   1\n",
              "40219    60219  ...                   1\n",
              "40225    60225  ...                   1\n",
              "40228    60228  ...                   1\n",
              "40235    60235  ...                   1\n",
              "...        ...  ...                 ...\n",
              "159968  179968  ...                   1\n",
              "159970  179970  ...                   1\n",
              "159978  179978  ...                   1\n",
              "159983  179983  ...                   1\n",
              "159985  179985  ...                   1\n",
              "\n",
              "[20000 rows x 5 columns]"
            ]
          },
          "metadata": {},
          "execution_count": 4
        }
      ],
      "source": [
        "df[df['verification_status']!=0]"
      ]
    },
    {
      "cell_type": "code",
      "source": [
        "df.dropna(subset=['comment', 'verification_status'], inplace=True)"
      ],
      "metadata": {
        "id": "3hOJ1ghfJ8Cw"
      },
      "execution_count": 5,
      "outputs": []
    },
    {
      "cell_type": "code",
      "execution_count": 6,
      "metadata": {
        "colab": {
          "base_uri": "https://localhost:8080/"
        },
        "id": "OtkULVIfE_Vf",
        "outputId": "c7039772-caa7-488e-aa10-a18b41e5f613"
      },
      "outputs": [
        {
          "output_type": "stream",
          "name": "stdout",
          "text": [
            "159891\n"
          ]
        }
      ],
      "source": [
        "train_len = df.shape[0]\n",
        "print(train_len)"
      ]
    },
    {
      "cell_type": "code",
      "execution_count": 7,
      "metadata": {
        "colab": {
          "base_uri": "https://localhost:8080/"
        },
        "id": "_rSDpBlG5sxY",
        "outputId": "1f884f4b-537b-471a-d154-d85837d8bf56"
      },
      "outputs": [
        {
          "output_type": "stream",
          "name": "stdout",
          "text": [
            "7995\n"
          ]
        }
      ],
      "source": [
        "# I only use 5000 data for computation\n",
        "df=df.sample(frac=0.05)\n",
        "print(len(df))"
      ]
    },
    {
      "cell_type": "code",
      "execution_count": 8,
      "metadata": {
        "colab": {
          "base_uri": "https://localhost:8080/",
          "height": 197
        },
        "id": "DFWl6-bVDu2v",
        "outputId": "53af0ec5-eb6a-4e17-8cf0-843d3fd14077"
      },
      "outputs": [
        {
          "output_type": "execute_result",
          "data": {
            "text/html": [
              "\n",
              "  <div id=\"df-e61f1467-bc4f-49b2-9c99-d5f180067c79\">\n",
              "    <div class=\"colab-df-container\">\n",
              "      <div>\n",
              "<style scoped>\n",
              "    .dataframe tbody tr th:only-of-type {\n",
              "        vertical-align: middle;\n",
              "    }\n",
              "\n",
              "    .dataframe tbody tr th {\n",
              "        vertical-align: top;\n",
              "    }\n",
              "\n",
              "    .dataframe thead th {\n",
              "        text-align: right;\n",
              "    }\n",
              "</style>\n",
              "<table border=\"1\" class=\"dataframe\">\n",
              "  <thead>\n",
              "    <tr style=\"text-align: right;\">\n",
              "      <th></th>\n",
              "      <th>id</th>\n",
              "      <th>title</th>\n",
              "      <th>comment</th>\n",
              "      <th>rate</th>\n",
              "    </tr>\n",
              "  </thead>\n",
              "  <tbody>\n",
              "    <tr>\n",
              "      <th>0</th>\n",
              "      <td>18053</td>\n",
              "      <td>جنس تاریخ گذشته و فاسد شده</td>\n",
              "      <td>جنس تاریخ گذشته بود.حدود دو هفته می گذشت از ان...</td>\n",
              "      <td>0.0</td>\n",
              "    </tr>\n",
              "    <tr>\n",
              "      <th>1</th>\n",
              "      <td>5088</td>\n",
              "      <td>کیفیت بسیار پایین</td>\n",
              "      <td>من این محصول را امروز از دیجی کالا تحویل گرفتم...</td>\n",
              "      <td>25.0</td>\n",
              "    </tr>\n",
              "    <tr>\n",
              "      <th>2</th>\n",
              "      <td>2264</td>\n",
              "      <td>خوب نیست</td>\n",
              "      <td>اصلا خوب نیست، فقط در این حد خوبه که گوشی خامو...</td>\n",
              "      <td>14.0</td>\n",
              "    </tr>\n",
              "    <tr>\n",
              "      <th>3</th>\n",
              "      <td>3352</td>\n",
              "      <td>بدنه ضعیف</td>\n",
              "      <td>کلا دو بار استفاده کردم بدنه مخزن شکست</td>\n",
              "      <td>64.0</td>\n",
              "    </tr>\n",
              "    <tr>\n",
              "      <th>4</th>\n",
              "      <td>10928</td>\n",
              "      <td>مناسب برای لباسشویی</td>\n",
              "      <td>فقط برای لباسشویی خوب است و در ظرفشویی بعد از ...</td>\n",
              "      <td>0.0</td>\n",
              "    </tr>\n",
              "  </tbody>\n",
              "</table>\n",
              "</div>\n",
              "      <button class=\"colab-df-convert\" onclick=\"convertToInteractive('df-e61f1467-bc4f-49b2-9c99-d5f180067c79')\"\n",
              "              title=\"Convert this dataframe to an interactive table.\"\n",
              "              style=\"display:none;\">\n",
              "        \n",
              "  <svg xmlns=\"http://www.w3.org/2000/svg\" height=\"24px\"viewBox=\"0 0 24 24\"\n",
              "       width=\"24px\">\n",
              "    <path d=\"M0 0h24v24H0V0z\" fill=\"none\"/>\n",
              "    <path d=\"M18.56 5.44l.94 2.06.94-2.06 2.06-.94-2.06-.94-.94-2.06-.94 2.06-2.06.94zm-11 1L8.5 8.5l.94-2.06 2.06-.94-2.06-.94L8.5 2.5l-.94 2.06-2.06.94zm10 10l.94 2.06.94-2.06 2.06-.94-2.06-.94-.94-2.06-.94 2.06-2.06.94z\"/><path d=\"M17.41 7.96l-1.37-1.37c-.4-.4-.92-.59-1.43-.59-.52 0-1.04.2-1.43.59L10.3 9.45l-7.72 7.72c-.78.78-.78 2.05 0 2.83L4 21.41c.39.39.9.59 1.41.59.51 0 1.02-.2 1.41-.59l7.78-7.78 2.81-2.81c.8-.78.8-2.07 0-2.86zM5.41 20L4 18.59l7.72-7.72 1.47 1.35L5.41 20z\"/>\n",
              "  </svg>\n",
              "      </button>\n",
              "      \n",
              "  <style>\n",
              "    .colab-df-container {\n",
              "      display:flex;\n",
              "      flex-wrap:wrap;\n",
              "      gap: 12px;\n",
              "    }\n",
              "\n",
              "    .colab-df-convert {\n",
              "      background-color: #E8F0FE;\n",
              "      border: none;\n",
              "      border-radius: 50%;\n",
              "      cursor: pointer;\n",
              "      display: none;\n",
              "      fill: #1967D2;\n",
              "      height: 32px;\n",
              "      padding: 0 0 0 0;\n",
              "      width: 32px;\n",
              "    }\n",
              "\n",
              "    .colab-df-convert:hover {\n",
              "      background-color: #E2EBFA;\n",
              "      box-shadow: 0px 1px 2px rgba(60, 64, 67, 0.3), 0px 1px 3px 1px rgba(60, 64, 67, 0.15);\n",
              "      fill: #174EA6;\n",
              "    }\n",
              "\n",
              "    [theme=dark] .colab-df-convert {\n",
              "      background-color: #3B4455;\n",
              "      fill: #D2E3FC;\n",
              "    }\n",
              "\n",
              "    [theme=dark] .colab-df-convert:hover {\n",
              "      background-color: #434B5C;\n",
              "      box-shadow: 0px 1px 3px 1px rgba(0, 0, 0, 0.15);\n",
              "      filter: drop-shadow(0px 1px 2px rgba(0, 0, 0, 0.3));\n",
              "      fill: #FFFFFF;\n",
              "    }\n",
              "  </style>\n",
              "\n",
              "      <script>\n",
              "        const buttonEl =\n",
              "          document.querySelector('#df-e61f1467-bc4f-49b2-9c99-d5f180067c79 button.colab-df-convert');\n",
              "        buttonEl.style.display =\n",
              "          google.colab.kernel.accessAllowed ? 'block' : 'none';\n",
              "\n",
              "        async function convertToInteractive(key) {\n",
              "          const element = document.querySelector('#df-e61f1467-bc4f-49b2-9c99-d5f180067c79');\n",
              "          const dataTable =\n",
              "            await google.colab.kernel.invokeFunction('convertToInteractive',\n",
              "                                                     [key], {});\n",
              "          if (!dataTable) return;\n",
              "\n",
              "          const docLinkHtml = 'Like what you see? Visit the ' +\n",
              "            '<a target=\"_blank\" href=https://colab.research.google.com/notebooks/data_table.ipynb>data table notebook</a>'\n",
              "            + ' to learn more about interactive tables.';\n",
              "          element.innerHTML = '';\n",
              "          dataTable['output_type'] = 'display_data';\n",
              "          await google.colab.output.renderOutput(dataTable, element);\n",
              "          const docLink = document.createElement('div');\n",
              "          docLink.innerHTML = docLinkHtml;\n",
              "          element.appendChild(docLink);\n",
              "        }\n",
              "      </script>\n",
              "    </div>\n",
              "  </div>\n",
              "  "
            ],
            "text/plain": [
              "      id  ...  rate\n",
              "0  18053  ...   0.0\n",
              "1   5088  ...  25.0\n",
              "2   2264  ...  14.0\n",
              "3   3352  ...  64.0\n",
              "4  10928  ...   0.0\n",
              "\n",
              "[5 rows x 4 columns]"
            ]
          },
          "metadata": {},
          "execution_count": 8
        }
      ],
      "source": [
        "df_test.head()"
      ]
    },
    {
      "cell_type": "markdown",
      "metadata": {
        "id": "yKScWKbuDzdA"
      },
      "source": [
        "# Preprocessing"
      ]
    },
    {
      "cell_type": "code",
      "execution_count": null,
      "metadata": {
        "colab": {
          "base_uri": "https://localhost:8080/"
        },
        "id": "E4uT1XHnDvYG",
        "outputId": "efa74fb6-7099-4444-a7e7-bc38c495e17f"
      },
      "outputs": [
        {
          "output_type": "stream",
          "name": "stdout",
          "text": [
            "['؛', '۰', '۱', '۲', '۳', '۴', '۵', '۶', '۷', '۸', '۹', 'در', 'به', 'از', 'كه', 'مي', 'اين', 'را', 'با', 'آن', 'يك', 'کی', 'یا', 'من', 'و']\n"
          ]
        }
      ],
      "source": [
        "normalizer = Normalizer()\n",
        "lemmatizer = Lemmatizer()\n",
        "stemmer = Stemmer()\n",
        "\n",
        "stop_words= []\n",
        "with open(\"/content/drive/MyDrive/Colab Notebooks/master/term1/nlp/stopwords-fa.txt\" ,encoding = 'utf-8' ) as f:\n",
        "    stop_words = f.read().splitlines()\n",
        "stopwords = stop_words [1:]\n",
        "print(stopwords)\n",
        "\n",
        "\n",
        "def preprocessing(text):\n",
        "    # print(text)\n",
        "    cleared_text = []\n",
        "    if not pd.isnull(text):\n",
        "      text = re.sub(r'\\d+', '', text)\n",
        "      text = re.sub(r'\\s*[A-Za-z]+\\b', '', text)\n",
        "      text = normalizer.normalize(text)\n",
        "      tokens = word_tokenize(text)\n",
        "      tokens = [word for word in tokens if not word in stopwords]\n",
        "      cleared_text = tokens\n",
        "    return cleared_text\n",
        "\n",
        "def clean_text(all_texts):\n",
        "  output = []\n",
        "  i = 0\n",
        "  for text in tqdm(all_texts):\n",
        "    # if(i % 1000 == 0):\n",
        "      # print(\"iteration # {}\".format(i))\n",
        "    i += 1\n",
        "    clean_txt = preprocessing(text)\n",
        "    output.append(clean_txt)\n",
        "  return output"
      ]
    },
    {
      "cell_type": "code",
      "execution_count": null,
      "metadata": {
        "colab": {
          "base_uri": "https://localhost:8080/"
        },
        "id": "Vi579KO_D6f8",
        "outputId": "41d8167c-9841-4b40-bb11-477dd659dfeb"
      },
      "outputs": [
        {
          "output_type": "stream",
          "name": "stderr",
          "text": [
            "100%|██████████| 8000/8000 [00:01<00:00, 4939.14it/s]\n"
          ]
        }
      ],
      "source": [
        "preprocessed_text_train = clean_text(df['comment'])"
      ]
    },
    {
      "cell_type": "code",
      "execution_count": null,
      "metadata": {
        "colab": {
          "base_uri": "https://localhost:8080/"
        },
        "id": "X0sbXDngD9w2",
        "outputId": "635ac378-553a-4148-bb4a-75a199b56631"
      },
      "outputs": [
        {
          "output_type": "stream",
          "name": "stderr",
          "text": [
            "100%|██████████| 20000/20000 [00:03<00:00, 5275.71it/s]\n"
          ]
        }
      ],
      "source": [
        "preprocessed_text_test = clean_text(df_test['comment'])"
      ]
    },
    {
      "cell_type": "code",
      "metadata": {
        "id": "ioFL5_1MQzIb"
      },
      "source": [
        "# calculate the length of comments based on their words\n",
        "df['comment_len_by_words'] = df['comment'].apply(lambda t: len(word_tokenize(t)))"
      ],
      "execution_count": null,
      "outputs": []
    },
    {
      "cell_type": "code",
      "metadata": {
        "id": "0CO3wJr4Q3gK",
        "colab": {
          "base_uri": "https://localhost:8080/"
        },
        "outputId": "ec613c0f-755e-4d03-ff39-df41fab48dbf"
      },
      "source": [
        "min_max_len = df[\"comment_len_by_words\"].min(), df[\"comment_len_by_words\"].max()\n",
        "print(f'Min: {min_max_len[0]} \\tMax: {min_max_len[1]}')"
      ],
      "execution_count": null,
      "outputs": [
        {
          "output_type": "stream",
          "name": "stdout",
          "text": [
            "Min: 1 \tMax: 957\n"
          ]
        }
      ]
    },
    {
      "cell_type": "code",
      "source": [
        "len(df[df[\"comment_len_by_words\"]>100])"
      ],
      "metadata": {
        "colab": {
          "base_uri": "https://localhost:8080/"
        },
        "id": "Fn8R7n83Q-zt",
        "outputId": "56adf914-17de-4c00-f3e8-57b34c47cfae"
      },
      "execution_count": null,
      "outputs": [
        {
          "output_type": "execute_result",
          "data": {
            "text/plain": [
              "383"
            ]
          },
          "metadata": {},
          "execution_count": 41
        }
      ]
    },
    {
      "cell_type": "code",
      "source": [
        "pd.Series(df[\"comment_len_by_words\"]).hist(bins = 30)"
      ],
      "metadata": {
        "colab": {
          "base_uri": "https://localhost:8080/",
          "height": 283
        },
        "id": "0dDSuf2XOaGJ",
        "outputId": "bdfc672b-5ec0-4e1c-9c63-1a9fd4877100"
      },
      "execution_count": null,
      "outputs": [
        {
          "output_type": "execute_result",
          "data": {
            "text/plain": [
              "<matplotlib.axes._subplots.AxesSubplot at 0x7f213f9b3450>"
            ]
          },
          "metadata": {},
          "execution_count": 37
        },
        {
          "output_type": "display_data",
          "data": {
            "image/png": "[encoded data removed]",
            "text/plain": [
              "<Figure size 432x288 with 1 Axes>"
            ]
          },
          "metadata": {
            "needs_background": "light"
          }
        }
      ]
    },
    {
      "cell_type": "markdown",
      "metadata": {
        "id": "tDAJ6dgYEEL4"
      },
      "source": [
        "# Approch one"
      ]
    },
    {
      "cell_type": "markdown",
      "metadata": {
        "id": "aeBp4p36EGem"
      },
      "source": [
        "## Word Embedding"
      ]
    },
    {
      "cell_type": "markdown",
      "metadata": {
        "id": "in07p7I4EKMo"
      },
      "source": [
        "In the first approch I use TF_IDF technique for embedding. It is said that tf-idf embedding has a great performace on models such as NB. \n",
        "This statistical method indicated that how relevant a word is to a document in a collection of documents. We want to ignore words that are highly(treshold) frequent as well as those that appear rarely in dataset."
      ]
    },
    {
      "cell_type": "code",
      "execution_count": null,
      "metadata": {
        "id": "VuE3cTItEF8e"
      },
      "outputs": [],
      "source": [
        "def dummy_fun(doc):\n",
        "    return doc\n",
        "def tfidf(data, ma = 0.6, mi = 0.0001):\n",
        "    tfidf_vectorize = TfidfVectorizer(\n",
        "    analyzer='word',\n",
        "    tokenizer=dummy_fun,\n",
        "    preprocessor=dummy_fun,\n",
        "    token_pattern=None,\n",
        "    max_df = ma,\n",
        "    min_df = mi) \n",
        "    tfidf_data = tfidf_vectorize.fit_transform(data)\n",
        "    return tfidf_data"
      ]
    },
    {
      "cell_type": "code",
      "execution_count": null,
      "metadata": {
        "colab": {
          "base_uri": "https://localhost:8080/"
        },
        "id": "_r6UFbO4EVIC",
        "outputId": "4fe5286f-8792-4371-eca8-46ae53be4d73"
      },
      "outputs": [
        {
          "output_type": "stream",
          "name": "stdout",
          "text": [
            "(8000, 17198)\n",
            "(20000, 12762)\n"
          ]
        }
      ],
      "source": [
        "word_embedded_text_train = tfidf(preprocessed_text_train)\n",
        "print(word_embedded_text_train.shape)\n",
        "\n",
        "word_embedded_text_test = tfidf(preprocessed_text_test)\n",
        "print(word_embedded_text_test.shape)\n",
        "\n",
        "merge_train_test = preprocessed_text_train\n",
        "for i in range(0 , len(preprocessed_text_test)):\n",
        "    merge_train_test.append(preprocessed_text_test[i])\n",
        "merge_word_embedded_text = tfidf(merge_train_test)"
      ]
    },
    {
      "cell_type": "markdown",
      "metadata": {
        "id": "Ie36SdEtEbh1"
      },
      "source": [
        "## Split data"
      ]
    },
    {
      "cell_type": "code",
      "execution_count": 23,
      "metadata": {
        "id": "NUb87zLGEYrD"
      },
      "outputs": [],
      "source": [
        "import sklearn\n",
        "def train_test_spiliting(X,Y):\n",
        "  x_train, x_test, y_train, y_test = sklearn.model_selection.train_test_split(X, Y, test_size = 0.2, random_state = 42)\n",
        "  print(\"X_train lenght: {}\".format(x_train.shape[0]))\n",
        "  print(\"X_test lenght: {}\".format(x_test.shape[0]))\n",
        "  return x_train, x_test, y_train, y_test \n"
      ]
    },
    {
      "cell_type": "code",
      "source": [
        "def train_test_val_spiliting(X,Y):\n",
        "  x_train, x_test, y_train, y_test = sklearn.model_selection.train_test_split(X, Y, test_size=0.2, random_state=42)\n",
        "\n",
        "  x_train, x_val, y_train, y_val = sklearn.model_selection.train_test_split(x_train, y_train, test_size=0.25, random_state=42) \n",
        "  print(\"X_train lenght: {}\".format(x_train.shape[0]))\n",
        "  print(\"X_test lenght: {}\".format(x_test.shape[0]))\n",
        "  print(\"X_val lenght: {}\".format(x_val.shape[0]))\n",
        "  return x_train, x_test, x_val, y_train, y_test , y_val\n"
      ],
      "metadata": {
        "id": "0YTADCELt4Mu"
      },
      "execution_count": 10,
      "outputs": []
    },
    {
      "cell_type": "code",
      "execution_count": null,
      "metadata": {
        "colab": {
          "base_uri": "https://localhost:8080/"
        },
        "id": "W5J5WSyO6HEf",
        "outputId": "4818d6a8-6531-4062-b8c6-5f11ced53c34"
      },
      "outputs": [
        {
          "output_type": "execute_result",
          "data": {
            "text/plain": [
              "28000"
            ]
          },
          "metadata": {},
          "execution_count": 18
        }
      ],
      "source": [
        "len(preprocessed_text_train)"
      ]
    },
    {
      "cell_type": "code",
      "execution_count": null,
      "metadata": {
        "colab": {
          "base_uri": "https://localhost:8080/"
        },
        "id": "Jyj6Eb7uUgAN",
        "outputId": "dded1fdd-2c2b-40f4-b9a1-103da209d7bc"
      },
      "outputs": [
        {
          "output_type": "stream",
          "name": "stdout",
          "text": [
            "X_train lenght: 6400\n",
            "X_test lenght: 1600\n"
          ]
        }
      ],
      "source": [
        "x_train, x_test, y_train, y_test = train_test_spiliting(word_embedded_text_train , df['verification_status'])"
      ]
    },
    {
      "cell_type": "markdown",
      "metadata": {
        "id": "gwmdjDF-FJvt"
      },
      "source": [
        "## Model"
      ]
    },
    {
      "cell_type": "markdown",
      "metadata": {
        "id": "V41Eh04aFMbx"
      },
      "source": [
        "I propose to models : logesticRegression , MultinomialNB"
      ]
    },
    {
      "cell_type": "code",
      "execution_count": null,
      "metadata": {
        "id": "SonSp6W2FJC1"
      },
      "outputs": [],
      "source": [
        "from sklearn.linear_model import LogisticRegression\n",
        "from sklearn.linear_model import LinearRegression\n",
        "from sklearn.naive_bayes import MultinomialNB\n",
        "from sklearn.metrics import classification_report\n",
        "from sklearn.pipeline import Pipeline\n",
        "from tensorflow.keras.callbacks import ReduceLROnPlateau\n",
        "def model(x_train, x_test, y_train, y_test, model_name):\n",
        "    if model_name == \"LogisticRegression\":\n",
        "      model = Pipeline([ ('clf', LogisticRegression(n_jobs = 1 , C = 1e5))])\n",
        "    elif model_name == \"MultinomialNB\":\n",
        "      model = MultinomialNB()\n",
        "    classifier = model.fit(x_train,y_train)\n",
        "    predictions = classifier.predict(x_test)\n",
        "    print(classification_report(y_test, predictions))\n",
        "    a = accuracy_score(y_test, predictions)\n",
        "    p = precision_score(y_test, predictions, average = 'weighted')\n",
        "    r = recall_score(y_test, predictions, average = 'weighted')\n",
        "    return a , p, r ,classifier"
      ]
    },
    {
      "cell_type": "code",
      "execution_count": null,
      "metadata": {
        "id": "U2yW_WQ_FITr"
      },
      "outputs": [],
      "source": [
        "def train(x_train, x_test, y_train, y_test,model_name):\n",
        "  accuracy, precision, recall , classifier = model(x_train, x_test, y_train, y_test,model_name)\n",
        "  print(\"model accuracy {}\".format(accuracy))\n",
        "  print(\"model precision {}\".format(precision))\n",
        "  print(\"model recall {}\".format(recall))\n",
        "  return classifier\n"
      ]
    },
    {
      "cell_type": "markdown",
      "metadata": {
        "id": "xLjoAs_7OLr6"
      },
      "source": [
        "### LogisticRegression"
      ]
    },
    {
      "cell_type": "code",
      "execution_count": null,
      "metadata": {
        "colab": {
          "base_uri": "https://localhost:8080/"
        },
        "id": "H63NKa8xF0Nz",
        "outputId": "313349e7-9da4-4171-9442-f8aaeeff67a3"
      },
      "outputs": [
        {
          "name": "stdout",
          "output_type": "stream",
          "text": [
            "              precision    recall  f1-score   support\n",
            "\n",
            "           0       0.94      0.91      0.93      1420\n",
            "           1       0.44      0.53      0.48       180\n",
            "\n",
            "    accuracy                           0.87      1600\n",
            "   macro avg       0.69      0.72      0.70      1600\n",
            "weighted avg       0.88      0.87      0.88      1600\n",
            "\n",
            "model accuracy 0.87125\n",
            "model precision 0.8830977243457826\n",
            "model recall 0.87125\n"
          ]
        },
        {
          "name": "stderr",
          "output_type": "stream",
          "text": [
            "/usr/local/lib/python3.7/dist-packages/sklearn/linear_model/_logistic.py:818: ConvergenceWarning: lbfgs failed to converge (status=1):\n",
            "STOP: TOTAL NO. of ITERATIONS REACHED LIMIT.\n",
            "\n",
            "Increase the number of iterations (max_iter) or scale the data as shown in:\n",
            "    https://scikit-learn.org/stable/modules/preprocessing.html\n",
            "Please also refer to the documentation for alternative solver options:\n",
            "    https://scikit-learn.org/stable/modules/linear_model.html#logistic-regression\n",
            "  extra_warning_msg=_LOGISTIC_SOLVER_CONVERGENCE_MSG,\n"
          ]
        }
      ],
      "source": [
        "classifier = train(x_train, x_test, y_train, y_test,'LogisticRegression')"
      ]
    },
    {
      "cell_type": "markdown",
      "metadata": {
        "id": "tUk5t-meOOwN"
      },
      "source": [
        "### MultinomialNB"
      ]
    },
    {
      "cell_type": "code",
      "execution_count": null,
      "metadata": {
        "colab": {
          "base_uri": "https://localhost:8080/"
        },
        "id": "_YfmMSOsG4yt",
        "outputId": "ff17a627-a67c-48f4-dc2d-a0f50feaa8d9"
      },
      "outputs": [
        {
          "name": "stdout",
          "output_type": "stream",
          "text": [
            "              precision    recall  f1-score   support\n",
            "\n",
            "           0       0.89      1.00      0.94      1420\n",
            "           1       0.00      0.00      0.00       180\n",
            "\n",
            "    accuracy                           0.89      1600\n",
            "   macro avg       0.44      0.50      0.47      1600\n",
            "weighted avg       0.79      0.89      0.83      1600\n",
            "\n",
            "model accuracy 0.8875\n",
            "model precision 0.78765625\n",
            "model recall 0.8875\n"
          ]
        },
        {
          "name": "stderr",
          "output_type": "stream",
          "text": [
            "/usr/local/lib/python3.7/dist-packages/sklearn/metrics/_classification.py:1308: UndefinedMetricWarning: Precision and F-score are ill-defined and being set to 0.0 in labels with no predicted samples. Use `zero_division` parameter to control this behavior.\n",
            "  _warn_prf(average, modifier, msg_start, len(result))\n",
            "/usr/local/lib/python3.7/dist-packages/sklearn/metrics/_classification.py:1308: UndefinedMetricWarning: Precision and F-score are ill-defined and being set to 0.0 in labels with no predicted samples. Use `zero_division` parameter to control this behavior.\n",
            "  _warn_prf(average, modifier, msg_start, len(result))\n",
            "/usr/local/lib/python3.7/dist-packages/sklearn/metrics/_classification.py:1308: UndefinedMetricWarning: Precision and F-score are ill-defined and being set to 0.0 in labels with no predicted samples. Use `zero_division` parameter to control this behavior.\n",
            "  _warn_prf(average, modifier, msg_start, len(result))\n",
            "/usr/local/lib/python3.7/dist-packages/sklearn/metrics/_classification.py:1308: UndefinedMetricWarning: Precision is ill-defined and being set to 0.0 in labels with no predicted samples. Use `zero_division` parameter to control this behavior.\n",
            "  _warn_prf(average, modifier, msg_start, len(result))\n"
          ]
        }
      ],
      "source": [
        "classifier = train(x_train, x_test, y_train, y_test,'MultinomialNB')"
      ]
    },
    {
      "cell_type": "markdown",
      "metadata": {
        "id": "HDFojEPTBDg9"
      },
      "source": [
        "The results show that this model has the accuracy of 86%, although it is less than that obtained by MultinomialNB, it has higher precision for class 1 in comparison.\n",
        "Also, logestic regression is a model widely used for multiclassification, while MultinomialNB is a multinomial Naive Bayes classifier.\n",
        "Naive Bayes model was taught at the class.\n",
        "logestic regression is used for categorical targets, it computes Z = WX + B and then apply sigmoid function on z. If Z goes to infinity, Y(predicted) will become 1 and if Z goes to negative infinity, Y(predicted) will become 0. And it uses mean squared error as its cost function.\n",
        "![1_TqZ9myxIdLuKNmt8orCeew.png](data:image/png;base64,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)"
      ]
    },
    {
      "cell_type": "markdown",
      "metadata": {
        "id": "eaMWubqJNvoc"
      },
      "source": [
        "# Second approach"
      ]
    },
    {
      "cell_type": "code",
      "execution_count": 36,
      "metadata": {
        "id": "ZILc0xqbOivy"
      },
      "outputs": [],
      "source": [
        "from sklearn.feature_extraction.text import CountVectorizer\n",
        "from keras.preprocessing.text import Tokenizer\n",
        "from keras.preprocessing.sequence import pad_sequences\n",
        "from keras.models import Sequential\n",
        "from keras.layers import Dense, Embedding, LSTM, SpatialDropout1D, GRU\n",
        "from sklearn.model_selection import train_test_split\n",
        "from keras.utils.np_utils import to_categorical\n",
        "import re\n",
        "import tensorflow as tf\n",
        "\n",
        "\n",
        "MAX_LEN = 100\n",
        "embed_dim = 256\n",
        "LSTM_UNIT = 196\n",
        "GRU_UNIT = 196\n",
        "batch_size = 16\n",
        "VOCAB_SIZE = 20000\n",
        "OUTPUT_PATH_DL_MODEL = '/content/drive/MyDrive/Colab Notebooks/master/term1/nlp/digikala/digikala_model'"
      ]
    },
    {
      "cell_type": "markdown",
      "metadata": {
        "id": "E39GtNC9QQuW"
      },
      "source": [
        "## Preprocessing"
      ]
    },
    {
      "cell_type": "markdown",
      "metadata": {
        "id": "SgrxYxuVCDNq"
      },
      "source": [
        "First, I tokenize the trainset using keras Tokenizer, also, I set the max number of words to 4000"
      ]
    },
    {
      "cell_type": "code",
      "execution_count": 17,
      "metadata": {
        "id": "ts_-638COidj"
      },
      "outputs": [],
      "source": [
        "tokenizer = tf.keras.preprocessing.text.Tokenizer(num_words=MAX_LEN, split=' ')\n",
        "df.dropna(subset = [\"comment\"], inplace=True)\n",
        "tokenizer.fit_on_texts(df['comment'].values)"
      ]
    },
    {
      "cell_type": "code",
      "execution_count": 18,
      "metadata": {
        "colab": {
          "base_uri": "https://localhost:8080/"
        },
        "id": "WoPQEEMKOmau",
        "outputId": "078077df-a7ff-42a2-967b-e9a50c1ceb3e"
      },
      "outputs": [
        {
          "output_type": "stream",
          "name": "stdout",
          "text": [
            "the input shape is (7995, 354)\n"
          ]
        }
      ],
      "source": [
        "X = tokenizer.texts_to_sequences(df['comment'].values)\n",
        "X = tf.keras.preprocessing.sequence.pad_sequences(X)\n",
        "print(\"the input shape is {}\".format(X.shape))"
      ]
    },
    {
      "cell_type": "code",
      "execution_count": 19,
      "metadata": {
        "id": "xVqSkUjKTxl5"
      },
      "outputs": [],
      "source": [
        "Y = pd.get_dummies(df['verification_status'])"
      ]
    },
    {
      "cell_type": "code",
      "source": [
        "len(df['verification_status'])"
      ],
      "metadata": {
        "colab": {
          "base_uri": "https://localhost:8080/"
        },
        "id": "ses1nCmyjC9P",
        "outputId": "94b8aa74-d9dc-4e46-d262-5e9f74d26cbd"
      },
      "execution_count": 20,
      "outputs": [
        {
          "output_type": "execute_result",
          "data": {
            "text/plain": [
              "7995"
            ]
          },
          "metadata": {},
          "execution_count": 20
        }
      ]
    },
    {
      "cell_type": "code",
      "source": [
        "len(Y)"
      ],
      "metadata": {
        "colab": {
          "base_uri": "https://localhost:8080/"
        },
        "id": "bTjOgQ26lWOm",
        "outputId": "bc621529-7db1-41b1-abba-e05e02cf726b"
      },
      "execution_count": 21,
      "outputs": [
        {
          "output_type": "execute_result",
          "data": {
            "text/plain": [
              "7995"
            ]
          },
          "metadata": {},
          "execution_count": 21
        }
      ]
    },
    {
      "cell_type": "markdown",
      "metadata": {
        "id": "dI0FsLLRRA2V"
      },
      "source": [
        "## Split"
      ]
    },
    {
      "cell_type": "code",
      "execution_count": 24,
      "metadata": {
        "colab": {
          "base_uri": "https://localhost:8080/"
        },
        "id": "UdkyOKAjRC9a",
        "outputId": "a7d2610e-7e90-4255-9d22-17a51211c0a6"
      },
      "outputs": [
        {
          "output_type": "stream",
          "name": "stdout",
          "text": [
            "X_train lenght: 4797\n",
            "X_test lenght: 1599\n",
            "X_val lenght: 1599\n"
          ]
        }
      ],
      "source": [
        "X_train, X_test,_, Y_train, Y_test,_ = train_test_val_spiliting(X,Y)\n",
        "# print(X_train.shape,Y_train.shape)"
      ]
    },
    {
      "cell_type": "markdown",
      "metadata": {
        "id": "zl32LxhMQUJ-"
      },
      "source": [
        "## Model - BILSTM"
      ]
    },
    {
      "cell_type": "markdown",
      "metadata": {
        "id": "KLEvNdIy8b3Q"
      },
      "source": [
        "Here, I use a form of RNN called LSTM followed by a dense layer to predict the two classes.  Note that for Simplifying the mode we can use GRU(output, state_h) as it has 2 gates while lstm has 3 gates(output, state_h, state_c). For improving the performace of the model we can make it Bidirectional by changing the model to : model.add(Bidirectional(LSTM(LSTM_UNIT, dropout=0.2, recurrent_dropout=0.2)))"
      ]
    },
    {
      "cell_type": "markdown",
      "metadata": {
        "id": "YdGVnLwyIpJW"
      },
      "source": [
        "LSTMs also have multiple single cell connect to eachother like a chain, the repeating module has four NN layer, interacting in a very special way. A special part of this model is that the cell state is running through all the modules,  and LSTM remove or add information to the cell state.\n",
        "![LSTM3-chain (1).png](data:image/png;base64,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)"
      ]
    },
    {
      "cell_type": "code",
      "execution_count": 40,
      "metadata": {
        "colab": {
          "base_uri": "https://localhost:8080/"
        },
        "id": "2l8-lIurPUHn",
        "outputId": "89114b61-87b6-4049-b201-caa368dc031a"
      },
      "outputs": [
        {
          "output_type": "stream",
          "name": "stdout",
          "text": [
            "Model: \"sequential_8\"\n",
            "_________________________________________________________________\n",
            " Layer (type)                Output Shape              Param #   \n",
            "=================================================================\n",
            " embedding_8 (Embedding)     (None, 354, 256)          25600     \n",
            "                                                                 \n",
            " spatial_dropout1d_8 (Spatia  (None, 354, 256)         0         \n",
            " lDropout1D)                                                     \n",
            "                                                                 \n",
            " lstm_8 (LSTM)               (None, 196)               355152    \n",
            "                                                                 \n",
            " dense_8 (Dense)             (None, 2)                 394       \n",
            "                                                                 \n",
            "=================================================================\n",
            "Total params: 381,146\n",
            "Trainable params: 381,146\n",
            "Non-trainable params: 0\n",
            "_________________________________________________________________\n",
            "None\n"
          ]
        }
      ],
      "source": [
        "model = Sequential()\n",
        "model.add(Embedding(MAX_LEN, embed_dim,input_length = X.shape[1]))\n",
        "model.add(SpatialDropout1D(0.4))\n",
        "model.add(LSTM(LSTM_UNIT, dropout=0.2, recurrent_dropout=0.2))\n",
        "model.add(Dense(2,activation='softmax'))\n",
        "model.compile(loss = 'categorical_crossentropy', optimizer='adam',metrics = [tf.keras.metrics.Precision(),tf.keras.metrics.Recall(),'accuracy'])\n",
        "print(model.summary())"
      ]
    },
    {
      "cell_type": "code",
      "execution_count": 41,
      "metadata": {
        "colab": {
          "base_uri": "https://localhost:8080/"
        },
        "id": "-lHwIsWDFDuH",
        "outputId": "44943cb1-a29f-446d-fc34-3642be2bee9e"
      },
      "outputs": [
        {
          "output_type": "stream",
          "name": "stdout",
          "text": [
            "Epoch 1/3\n",
            "300/300 [==============================] - 658s 2s/step - loss: 0.3679 - precision_1: 0.8724 - recall_1: 0.8724 - accuracy: 0.8724\n",
            "Epoch 2/3\n",
            "300/300 [==============================] - 624s 2s/step - loss: 0.3328 - precision_1: 0.8795 - recall_1: 0.8795 - accuracy: 0.8795\n",
            "Epoch 3/3\n",
            "300/300 [==============================] - 631s 2s/step - loss: 0.3242 - precision_1: 0.8793 - recall_1: 0.8793 - accuracy: 0.8793\n"
          ]
        },
        {
          "output_type": "execute_result",
          "data": {
            "text/plain": [
              "<keras.callbacks.History at 0x7f07d692e050>"
            ]
          },
          "metadata": {},
          "execution_count": 41
        }
      ],
      "source": [
        "model.fit(X_train, Y_train,batch_size=batch_size, epochs = 3, verbose = 1)"
      ]
    },
    {
      "cell_type": "code",
      "source": [
        "model.save(OUTPUT_PATH_DL_MODEL+'BILSTM.pt')"
      ],
      "metadata": {
        "colab": {
          "base_uri": "https://localhost:8080/"
        },
        "id": "D5Vp_PD7PLFB",
        "outputId": "dc72ea93-85f7-4dfa-a3a4-b1852b08dd1c"
      },
      "execution_count": 42,
      "outputs": [
        {
          "output_type": "stream",
          "name": "stdout",
          "text": [
            "INFO:tensorflow:Assets written to: /content/drive/MyDrive/Colab Notebooks/master/term1/nlp/digikala/digikala_modelBILSTM.pt/assets\n"
          ]
        },
        {
          "output_type": "stream",
          "name": "stderr",
          "text": [
            "INFO:tensorflow:Assets written to: /content/drive/MyDrive/Colab Notebooks/master/term1/nlp/digikala/digikala_modelBILSTM.pt/assets\n",
            "WARNING:absl:<keras.layers.recurrent.LSTMCell object at 0x7f07d65b9ed0> has the same name 'LSTMCell' as a built-in Keras object. Consider renaming <class 'keras.layers.recurrent.LSTMCell'> to avoid naming conflicts when loading with `tf.keras.models.load_model`. If renaming is not possible, pass the object in the `custom_objects` parameter of the load function.\n"
          ]
        }
      ]
    },
    {
      "cell_type": "markdown",
      "metadata": {
        "id": "_0D1W5hGGcNN"
      },
      "source": [
        "I could not train the model completely as RNN models take alot of time to be trained, however the accuracy obtained by such models is higher than NN based models because, LSTM memorizing certain patterns and have multiple hidden layers and as it passes through every layer, the relevant information is kept and all the irrelevant information gets discarded in every single cell. This happens as it has forget gate and cell state along with input/output gate. "
      ]
    },
    {
      "cell_type": "code",
      "execution_count": 44,
      "metadata": {
        "colab": {
          "base_uri": "https://localhost:8080/"
        },
        "id": "39-6kmYsaQxU",
        "outputId": "941aee35-9954-4cac-9a64-f28afc22a28d"
      },
      "outputs": [
        {
          "output_type": "stream",
          "name": "stdout",
          "text": [
            "100/100 - 20s - loss: 0.3351 - precision_1: 0.8718 - recall_1: 0.8718 - accuracy: 0.8718 - 20s/epoch - 196ms/step\n",
            "[0.3351120054721832, 0.8717948794364929, 0.8717948794364929, 0.8717948794364929]\n"
          ]
        }
      ],
      "source": [
        "print(model.evaluate(X_test, Y_test, verbose = 2, batch_size = batch_size))\n",
        "# print(\"accuracy: {}\" .format(acc))"
      ]
    },
    {
      "cell_type": "markdown",
      "metadata": {
        "id": "Q00e7mhPH2EM"
      },
      "source": [
        "## Model - BIGRU"
      ]
    },
    {
      "cell_type": "code",
      "execution_count": 46,
      "metadata": {
        "colab": {
          "base_uri": "https://localhost:8080/"
        },
        "id": "9ZGafoO_H6sz",
        "outputId": "0709a6be-dae0-494f-cb9e-d8608918d28f"
      },
      "outputs": [
        {
          "output_type": "stream",
          "name": "stdout",
          "text": [
            "Model: \"sequential_10\"\n",
            "_________________________________________________________________\n",
            " Layer (type)                Output Shape              Param #   \n",
            "=================================================================\n",
            " embedding_10 (Embedding)    (None, 354, 256)          25600     \n",
            "                                                                 \n",
            " spatial_dropout1d_10 (Spati  (None, 354, 256)         0         \n",
            " alDropout1D)                                                    \n",
            "                                                                 \n",
            " gru_1 (GRU)                 (None, 196)               266952    \n",
            "                                                                 \n",
            " dense_10 (Dense)            (None, 2)                 394       \n",
            "                                                                 \n",
            "=================================================================\n",
            "Total params: 292,946\n",
            "Trainable params: 292,946\n",
            "Non-trainable params: 0\n",
            "_________________________________________________________________\n",
            "None\n"
          ]
        }
      ],
      "source": [
        "model = Sequential()\n",
        "model.add(Embedding(MAX_LEN, embed_dim,input_length = X.shape[1]))\n",
        "model.add(SpatialDropout1D(0.4))\n",
        "model.add(GRU(GRU_UNIT, dropout=0.2, recurrent_dropout=0.2))\n",
        "model.add(Dense(2,activation='softmax'))\n",
        "model.compile(loss = 'categorical_crossentropy', optimizer='adam',metrics =[tf.keras.metrics.Precision(),tf.keras.metrics.Recall(),'accuracy'])\n",
        "print(model.summary())"
      ]
    },
    {
      "cell_type": "code",
      "execution_count": 47,
      "metadata": {
        "colab": {
          "base_uri": "https://localhost:8080/"
        },
        "id": "nES6ItSoOdIA",
        "outputId": "9ee1d10e-df88-472e-8b9f-8dbee250bbc7"
      },
      "outputs": [
        {
          "output_type": "stream",
          "name": "stdout",
          "text": [
            "Epoch 1/3\n",
            "300/300 [==============================] - 652s 2s/step - loss: 0.3665 - precision_2: 0.8716 - recall_2: 0.8716 - accuracy: 0.8716\n",
            "Epoch 2/3\n",
            "300/300 [==============================] - 612s 2s/step - loss: 0.3312 - precision_2: 0.8776 - recall_2: 0.8776 - accuracy: 0.8776\n",
            "Epoch 3/3\n",
            "300/300 [==============================] - 622s 2s/step - loss: 0.3216 - precision_2: 0.8791 - recall_2: 0.8791 - accuracy: 0.8791\n"
          ]
        },
        {
          "output_type": "execute_result",
          "data": {
            "text/plain": [
              "<keras.callbacks.History at 0x7f07dc500710>"
            ]
          },
          "metadata": {},
          "execution_count": 47
        }
      ],
      "source": [
        "model.fit(X_train, Y_train,batch_size=batch_size, epochs = 3, verbose = 1)"
      ]
    },
    {
      "cell_type": "code",
      "source": [
        "model.save(OUTPUT_PATH_DL_MODEL+'BIGRU.pt')"
      ],
      "metadata": {
        "colab": {
          "base_uri": "https://localhost:8080/"
        },
        "id": "azZsT9s0q4ho",
        "outputId": "7c217048-b0da-492f-c10a-262e0a9ca4c3"
      },
      "execution_count": 48,
      "outputs": [
        {
          "output_type": "stream",
          "name": "stdout",
          "text": [
            "INFO:tensorflow:Assets written to: /content/drive/MyDrive/Colab Notebooks/master/term1/nlp/digikala/digikala_modelBIGRU.pt/assets\n"
          ]
        },
        {
          "output_type": "stream",
          "name": "stderr",
          "text": [
            "INFO:tensorflow:Assets written to: /content/drive/MyDrive/Colab Notebooks/master/term1/nlp/digikala/digikala_modelBIGRU.pt/assets\n",
            "WARNING:absl:<keras.layers.recurrent.GRUCell object at 0x7f07d4498290> has the same name 'GRUCell' as a built-in Keras object. Consider renaming <class 'keras.layers.recurrent.GRUCell'> to avoid naming conflicts when loading with `tf.keras.models.load_model`. If renaming is not possible, pass the object in the `custom_objects` parameter of the load function.\n"
          ]
        }
      ]
    },
    {
      "cell_type": "code",
      "source": [
        "print(model.evaluate(X_test, Y_test, verbose = 2, batch_size = batch_size))"
      ],
      "metadata": {
        "id": "PlVAwAkeCCkR",
        "colab": {
          "base_uri": "https://localhost:8080/"
        },
        "outputId": "dbd802a9-aea2-48a2-b179-3450171d3971"
      },
      "execution_count": 50,
      "outputs": [
        {
          "output_type": "stream",
          "name": "stdout",
          "text": [
            "100/100 - 35s - loss: 0.3227 - precision_2: 0.8806 - recall_2: 0.8806 - accuracy: 0.8806 - 35s/epoch - 348ms/step\n",
            "[0.32269713282585144, 0.8805503249168396, 0.8805503249168396, 0.8805503249168396]\n"
          ]
        }
      ]
    },
    {
      "cell_type": "markdown",
      "metadata": {
        "id": "RDyflpZmPUbQ"
      },
      "source": [
        "# Third approach"
      ]
    },
    {
      "cell_type": "markdown",
      "metadata": {
        "id": "o1urBxWAUr5I"
      },
      "source": [
        "## Attention"
      ]
    },
    {
      "cell_type": "code",
      "execution_count": null,
      "metadata": {
        "id": "d1wBEK_POmHu"
      },
      "outputs": [],
      "source": [
        "import tensorflow as tf\n",
        "from tensorflow import keras\n",
        "from tensorflow.keras.models import Model\n",
        "from tensorflow.keras.layers import Input\n",
        "from tensorflow.keras.layers import GRU, LSTM\n",
        "from tensorflow.keras.models import Model\n",
        "from tensorflow.keras.layers import Dense, Embedding, Bidirectional, Concatenate, Dropout, Attention\n",
        "from numpy import array"
      ]
    },
    {
      "cell_type": "code",
      "execution_count": null,
      "metadata": {
        "id": "I2V1IBcIUqPw"
      },
      "outputs": [],
      "source": [
        "class Attention(keras.Model):\n",
        "    def __init__(self, units):\n",
        "        super(Attention, self).__init__()\n",
        "        self.W1 = Dense(units)\n",
        "        self.W2 = Dense(units)\n",
        "        self.V = Dense(1)\n",
        "\n",
        "    def call(self, features, hidden):\n",
        "        hidden_with_time_axis = tf.expand_dims(hidden, 1)\n",
        "        score = tf.nn.tanh(self.W1(features) + self.W2(hidden_with_time_axis))\n",
        "        attention_weights = tf.nn.softmax(self.V(score), axis=1)\n",
        "        context_vector = attention_weights * features\n",
        "        context_vector = tf.reduce_sum(context_vector, axis=1)\n",
        "\n",
        "        return context_vector, attention_weights"
      ]
    },
    {
      "cell_type": "markdown",
      "metadata": {
        "id": "2mgLYNhOH7VX"
      },
      "source": [
        "## Model - BILSTM with attention"
      ]
    },
    {
      "cell_type": "code",
      "execution_count": null,
      "metadata": {
        "id": "IBH02W6GH_BH",
        "colab": {
          "base_uri": "https://localhost:8080/",
          "height": 1000
        },
        "outputId": "451d530a-1b09-4fdd-99f4-76a7ac789262"
      },
      "outputs": [
        {
          "output_type": "stream",
          "name": "stdout",
          "text": [
            "Model: \"model\"\n",
            "__________________________________________________________________________________________________\n",
            " Layer (type)                   Output Shape         Param #     Connected to                     \n",
            "==================================================================================================\n",
            " input_1 (InputLayer)           [(None, 357)]        0           []                               \n",
            "                                                                                                  \n",
            " embedding (Embedding)          (None, 357, 128)     2560128     ['input_1[0][0]']                \n",
            "                                                                                                  \n",
            " bi_lstm_0 (Bidirectional)      (None, 357, 392)     509600      ['embedding[0][0]']              \n",
            "                                                                                                  \n",
            " bi_lstm_1 (Bidirectional)      [(None, 357, 392),   923552      ['bi_lstm_0[0][0]']              \n",
            "                                 (None, 196),                                                     \n",
            "                                 (None, 196),                                                     \n",
            "                                 (None, 196),                                                     \n",
            "                                 (None, 196)]                                                     \n",
            "                                                                                                  \n",
            " concatenate (Concatenate)      (None, 392)          0           ['bi_lstm_1[0][1]',              \n",
            "                                                                  'bi_lstm_1[0][3]']              \n",
            "                                                                                                  \n",
            " attention (Attention)          ((None, 392),        7871        ['bi_lstm_1[0][0]',              \n",
            "                                 (None, 357, 1))                  'concatenate[0][0]']            \n",
            "                                                                                                  \n",
            " dense_3 (Dense)                (None, 2)            786         ['attention[0][0]']              \n",
            "                                                                                                  \n",
            "==================================================================================================\n",
            "Total params: 4,001,937\n",
            "Trainable params: 4,001,937\n",
            "Non-trainable params: 0\n",
            "__________________________________________________________________________________________________\n",
            "None\n"
          ]
        },
        {
          "output_type": "execute_result",
          "data": {
            "image/png": "[encoded data removed]",
            "text/plain": [
              "<IPython.core.display.Image object>"
            ]
          },
          "metadata": {},
          "execution_count": 211
        }
      ],
      "source": [
        "enc_inp = Input(shape=(X.shape[1],), dtype=\"int32\")\n",
        "enc_embed = Embedding(VOCAB_SIZE+1, 128, mask_zero=True, input_length=X.shape[1])(enc_inp)\n",
        "lstm = Bidirectional(LSTM(LSTM_UNIT, return_sequences = True), name=\"bi_lstm_0\")(enc_embed)\n",
        "# enc_lstm = Bidirectional(LSTM(LSTM_UNIT, return_state=True, dropout=0.05, return_sequences = True))\n",
        "encoder_outputs, forward_h, forward_c, backward_h, backward_c = Bidirectional(LSTM(LSTM_UNIT, return_sequences=True, return_state=True), name=\"bi_lstm_1\")(lstm)\n",
        "state_h = Concatenate()([forward_h, backward_h])\n",
        "state_c = Concatenate()([forward_c, backward_c])\n",
        "enc_states_1 = [state_h, state_c]\n",
        "\n",
        "\n",
        "context_vector, attention_weights = Attention(10)(encoder_outputs, state_h)\n",
        "\n",
        "output = Dense(2, activation='softmax')(context_vector)\n",
        "\n",
        "model = Model(inputs=enc_inp, outputs=output)\n",
        "\n",
        "# summarize layers\n",
        "print(model.summary())\n",
        "\n",
        "from tensorflow.keras.utils import plot_model\n",
        "plot_model(model, to_file='model_plot4a.png', show_shapes=True, show_layer_names=True)\n"
      ]
    },
    {
      "cell_type": "code",
      "source": [
        "model.compile(loss = 'categorical_crossentropy', optimizer='adam',metrics = ['accuracy'])"
      ],
      "metadata": {
        "id": "3OuZs0kFc00s"
      },
      "execution_count": null,
      "outputs": []
    },
    {
      "cell_type": "code",
      "source": [
        "early_stopping_callback = keras.callbacks.EarlyStopping(monitor='val_loss',\n",
        "                                                        min_delta=0,\n",
        "                                                        patience=1,\n",
        "                                                        verbose=0, mode='auto')"
      ],
      "metadata": {
        "id": "3VT8qfdJdLYj"
      },
      "execution_count": null,
      "outputs": []
    },
    {
      "cell_type": "code",
      "source": [
        "model.fit(X_train, Y_train,batch_size=batch_size, epochs = 3, verbose = 1, callbacks=[early_stopping_callback])"
      ],
      "metadata": {
        "colab": {
          "base_uri": "https://localhost:8080/"
        },
        "id": "pWiTWVLHcmTX",
        "outputId": "61aff6d8-7f75-4e8a-f82f-870f517fafe9"
      },
      "execution_count": null,
      "outputs": [
        {
          "output_type": "stream",
          "name": "stdout",
          "text": [
            "Epoch 1/3\n",
            "400/400 [==============================] - ETA: 0s - loss: 0.3578 - accuracy: 0.8738WARNING:tensorflow:Early stopping conditioned on metric `val_loss` which is not available. Available metrics are: loss,accuracy\n",
            "400/400 [==============================] - 2830s 7s/step - loss: 0.3578 - accuracy: 0.8738\n",
            "Epoch 2/3\n",
            "400/400 [==============================] - ETA: 0s - loss: 0.2761 - accuracy: 0.8791WARNING:tensorflow:Early stopping conditioned on metric `val_loss` which is not available. Available metrics are: loss,accuracy\n",
            "400/400 [==============================] - 2742s 7s/step - loss: 0.2761 - accuracy: 0.8791\n",
            "Epoch 3/3\n",
            "400/400 [==============================] - ETA: 0s - loss: 0.2641 - accuracy: 0.8946WARNING:tensorflow:Early stopping conditioned on metric `val_loss` which is not available. Available metrics are: loss,accuracy\n",
            "400/400 [==============================] - 2740s 7s/step - loss: 0.2641 - accuracy: 0.8946\n"
          ]
        },
        {
          "output_type": "execute_result",
          "data": {
            "text/plain": [
              "<keras.callbacks.History at 0x7f1ebb2cff10>"
            ]
          },
          "metadata": {},
          "execution_count": 109
        }
      ]
    },
    {
      "cell_type": "code",
      "source": [
        "score,acc = model.evaluate(X_test, Y_test, verbose = 2, batch_size = batch_size)\n",
        "print(\"accuracy: {}\" .format(acc))"
      ],
      "metadata": {
        "colab": {
          "base_uri": "https://localhost:8080/"
        },
        "id": "lfCWFW1TnM9i",
        "outputId": "68914161-d40b-4db0-e3c1-8f8f108f6a21"
      },
      "execution_count": null,
      "outputs": [
        {
          "output_type": "stream",
          "name": "stdout",
          "text": [
            "100/100 - 125s - loss: 0.3391 - accuracy: 0.8268 - 125s/epoch - 1s/step\n",
            "accuracy: 0.8267667293548584\n"
          ]
        }
      ]
    },
    {
      "cell_type": "markdown",
      "metadata": {
        "id": "QEX_WGYbIBJo"
      },
      "source": [
        "## Model - BIGRU with attention"
      ]
    },
    {
      "cell_type": "code",
      "execution_count": null,
      "metadata": {
        "id": "wSCqwLciIEsX",
        "colab": {
          "base_uri": "https://localhost:8080/"
        },
        "outputId": "515f719e-1f4a-4f55-8bc4-e0c7abb59b59"
      },
      "outputs": [
        {
          "output_type": "stream",
          "name": "stdout",
          "text": [
            "Model: \"model_3\"\n",
            "__________________________________________________________________________________________________\n",
            " Layer (type)                   Output Shape         Param #     Connected to                     \n",
            "==================================================================================================\n",
            " input_4 (InputLayer)           [(None, 357)]        0           []                               \n",
            "                                                                                                  \n",
            " embedding_3 (Embedding)        (None, 357, 128)     2560128     ['input_4[0][0]']                \n",
            "                                                                                                  \n",
            " bi_lstm_0 (Bidirectional)      (None, 357, 392)     383376      ['embedding_3[0][0]']            \n",
            "                                                                                                  \n",
            " bi_lstm_1 (Bidirectional)      [(None, 357, 392),   693840      ['bi_lstm_0[0][0]']              \n",
            "                                 (None, 196),                                                     \n",
            "                                 (None, 196)]                                                     \n",
            "                                                                                                  \n",
            " concatenate_4 (Concatenate)    (None, 392)          0           ['bi_lstm_1[0][1]',              \n",
            "                                                                  'bi_lstm_1[0][2]']              \n",
            "                                                                                                  \n",
            " attention_3 (Attention)        ((None, 392),        7871        ['bi_lstm_1[0][0]',              \n",
            "                                 (None, 357, 1))                  'concatenate_4[0][0]']          \n",
            "                                                                                                  \n",
            " dense_15 (Dense)               (None, 2)            786         ['attention_3[0][0]']            \n",
            "                                                                                                  \n",
            "==================================================================================================\n",
            "Total params: 3,646,001\n",
            "Trainable params: 3,646,001\n",
            "Non-trainable params: 0\n",
            "__________________________________________________________________________________________________\n",
            "None\n"
          ]
        }
      ],
      "source": [
        "enc_inp = Input(shape=(X.shape[1],), dtype=\"int32\")\n",
        "enc_embed = Embedding(VOCAB_SIZE+1, 128, mask_zero=True, input_length=X.shape[1])(enc_inp)\n",
        "lstm = Bidirectional(GRU(LSTM_UNIT, return_sequences = True), name=\"bi_lstm_0\")(enc_embed)\n",
        "# enc_lstm = Bidirectional(LSTM(LSTM_UNIT, return_state=True, dropout=0.05, return_sequences = True))\n",
        "encoder_outputs, forward_h, backward_h = Bidirectional(GRU(LSTM_UNIT, return_sequences=True, return_state=True), name=\"bi_lstm_1\")(lstm)\n",
        "state_h = Concatenate()([forward_h, backward_h])\n",
        "enc_states_1 = [state_h, state_c]\n",
        "\n",
        "\n",
        "context_vector, attention_weights = Attention(10)(encoder_outputs, state_h)\n",
        "\n",
        "output = Dense(2, activation='softmax')(context_vector)\n",
        "\n",
        "model = Model(inputs=enc_inp, outputs=output)\n",
        "\n",
        "# summarize layers\n",
        "print(model.summary())\n",
        "\n",
        "from tensorflow.keras.utils import plot_model\n",
        "plot_model(model, to_file='model_plot4a.png', show_shapes=True, show_layer_names=True)\n",
        "\n",
        "model.compile(loss = 'categorical_crossentropy', optimizer='adam',metrics = ['accuracy'])"
      ]
    },
    {
      "cell_type": "code",
      "source": [
        "model.fit(X_train, Y_train,batch_size=batch_size, epochs = 3, verbose = 1)"
      ],
      "metadata": {
        "id": "N8-TjSBfnf-2",
        "colab": {
          "base_uri": "https://localhost:8080/"
        },
        "outputId": "bba38dee-e58c-4d1f-d419-9f76ec4e2c0e"
      },
      "execution_count": null,
      "outputs": [
        {
          "output_type": "stream",
          "name": "stdout",
          "text": [
            "Epoch 1/3\n",
            "300/300 [==============================] - 1505s 5s/step - loss: 0.3708 - accuracy: 0.8770\n",
            "Epoch 2/3\n",
            "300/300 [==============================] - 1450s 5s/step - loss: 0.3178 - accuracy: 0.8797\n",
            "Epoch 3/3\n",
            "300/300 [==============================] - 1445s 5s/step - loss: 0.3108 - accuracy: 0.8797\n"
          ]
        },
        {
          "output_type": "execute_result",
          "data": {
            "text/plain": [
              "<keras.callbacks.History at 0x7f20c4fea390>"
            ]
          },
          "metadata": {},
          "execution_count": 227
        }
      ]
    },
    {
      "cell_type": "code",
      "source": [
        "score,acc = model.evaluate(X_test, Y_test, verbose = 2, batch_size = batch_size)\n",
        "print(\"accuracy: {}\" .format(acc))"
      ],
      "metadata": {
        "id": "XkFrqAYrnhx9",
        "colab": {
          "base_uri": "https://localhost:8080/"
        },
        "outputId": "8f0d3f50-3700-4449-fb94-5b4e594cacb9"
      },
      "execution_count": null,
      "outputs": [
        {
          "output_type": "stream",
          "name": "stdout",
          "text": [
            "100/100 - 53s - loss: 0.3611 - accuracy: 0.8587 - 53s/epoch - 531ms/step\n",
            "accuracy: 0.8586616516113281\n"
          ]
        }
      ]
    },
    {
      "cell_type": "markdown",
      "source": [
        "# Fourth approach"
      ],
      "metadata": {
        "id": "LUeO49kRKdZh"
      }
    },
    {
      "cell_type": "markdown",
      "metadata": {
        "id": "Mk-T5EvIRc6t"
      },
      "source": [
        "## PyTorch"
      ]
    },
    {
      "cell_type": "code",
      "metadata": {
        "id": "LjfRss-DR3fu",
        "colab": {
          "base_uri": "https://localhost:8080/"
        },
        "outputId": "03fd724a-e379-4c91-e271-906314262031"
      },
      "source": [
        "! pip install transformers\n",
        "from transformers import BertConfig, BertTokenizer, AutoModel\n",
        "from transformers import BertModel\n",
        "\n",
        "from transformers import AdamW\n",
        "from transformers import get_linear_schedule_with_warmup\n",
        "\n",
        "import torch\n",
        "import torch.nn as nn\n",
        "import torch.nn.functional as F\n",
        "\n",
        "import os\n",
        "import re\n",
        "import json"
      ],
      "execution_count": null,
      "outputs": [
        {
          "output_type": "stream",
          "name": "stdout",
          "text": [
            "Requirement already satisfied: transformers in /usr/local/lib/python3.7/dist-packages (4.15.0)\n",
            "Requirement already satisfied: requests in /usr/local/lib/python3.7/dist-packages (from transformers) (2.23.0)\n",
            "Requirement already satisfied: regex!=2019.12.17 in /usr/local/lib/python3.7/dist-packages (from transformers) (2019.12.20)\n",
            "Requirement already satisfied: numpy>=1.17 in /usr/local/lib/python3.7/dist-packages (from transformers) (1.19.5)\n",
            "Requirement already satisfied: importlib-metadata in /usr/local/lib/python3.7/dist-packages (from transformers) (4.8.2)\n",
            "Requirement already satisfied: huggingface-hub<1.0,>=0.1.0 in /usr/local/lib/python3.7/dist-packages (from transformers) (0.2.1)\n",
            "Requirement already satisfied: packaging>=20.0 in /usr/local/lib/python3.7/dist-packages (from transformers) (21.3)\n",
            "Requirement already satisfied: pyyaml>=5.1 in /usr/local/lib/python3.7/dist-packages (from transformers) (6.0)\n",
            "Requirement already satisfied: tokenizers<0.11,>=0.10.1 in /usr/local/lib/python3.7/dist-packages (from transformers) (0.10.3)\n",
            "Requirement already satisfied: tqdm>=4.27 in /usr/local/lib/python3.7/dist-packages (from transformers) (4.62.3)\n",
            "Requirement already satisfied: filelock in /usr/local/lib/python3.7/dist-packages (from transformers) (3.4.0)\n",
            "Requirement already satisfied: sacremoses in /usr/local/lib/python3.7/dist-packages (from transformers) (0.0.46)\n",
            "Requirement already satisfied: typing-extensions>=3.7.4.3 in /usr/local/lib/python3.7/dist-packages (from huggingface-hub<1.0,>=0.1.0->transformers) (3.10.0.2)\n",
            "Requirement already satisfied: pyparsing!=3.0.5,>=2.0.2 in /usr/local/lib/python3.7/dist-packages (from packaging>=20.0->transformers) (3.0.6)\n",
            "Requirement already satisfied: zipp>=0.5 in /usr/local/lib/python3.7/dist-packages (from importlib-metadata->transformers) (3.6.0)\n",
            "Requirement already satisfied: chardet<4,>=3.0.2 in /usr/local/lib/python3.7/dist-packages (from requests->transformers) (3.0.4)\n",
            "Requirement already satisfied: urllib3!=1.25.0,!=1.25.1,<1.26,>=1.21.1 in /usr/local/lib/python3.7/dist-packages (from requests->transformers) (1.24.3)\n",
            "Requirement already satisfied: certifi>=2017.4.17 in /usr/local/lib/python3.7/dist-packages (from requests->transformers) (2021.10.8)\n",
            "Requirement already satisfied: idna<3,>=2.5 in /usr/local/lib/python3.7/dist-packages (from requests->transformers) (2.10)\n",
            "Requirement already satisfied: click in /usr/local/lib/python3.7/dist-packages (from sacremoses->transformers) (7.1.2)\n",
            "Requirement already satisfied: six in /usr/local/lib/python3.7/dist-packages (from sacremoses->transformers) (1.15.0)\n",
            "Requirement already satisfied: joblib in /usr/local/lib/python3.7/dist-packages (from sacremoses->transformers) (1.1.0)\n"
          ]
        }
      ]
    },
    {
      "cell_type": "markdown",
      "metadata": {
        "id": "SperdZDDWKxT"
      },
      "source": [
        "### Configuration"
      ]
    },
    {
      "cell_type": "code",
      "metadata": {
        "id": "WFpUoggdpU3x",
        "colab": {
          "base_uri": "https://localhost:8080/"
        },
        "outputId": "977c3123-60bc-4e3e-a479-bdfee79fe3c9"
      },
      "source": [
        "device = torch.device(\"cuda:0\" if torch.cuda.is_available() else \"cpu\")\n",
        "print(f'device: {device}')\n",
        "\n",
        "train_on_gpu = torch.cuda.is_available()\n",
        "\n",
        "if not train_on_gpu:\n",
        "    print('CUDA is not available.  Training on CPU ...')\n",
        "else:\n",
        "    print('CUDA is available!  Training on GPU ...')"
      ],
      "execution_count": null,
      "outputs": [
        {
          "output_type": "stream",
          "name": "stdout",
          "text": [
            "device: cuda:0\n",
            "CUDA is available!  Training on GPU ...\n"
          ]
        }
      ]
    },
    {
      "cell_type": "code",
      "metadata": {
        "id": "mH38OJU0X7rd"
      },
      "source": [
        "# general config\n",
        "MAX_LEN = 100\n",
        "BATCH_SIZE = 32\n",
        "TRAIN_BATCH_SIZE = 16\n",
        "VALID_BATCH_SIZE = 16\n",
        "TEST_BATCH_SIZE = 16\n",
        "\n",
        "EPOCHS = 10\n",
        "EEVERY_EPOCH = 1000\n",
        "LEARNING_RATE = 2e-5\n",
        "CLIP = 0.0\n",
        "\n",
        "MODEL_NAME= 'HooshvareLab/bert-fa-base-uncased'\n",
        "OUTPUT_PATH = '/content/drive/MyDrive/Colab Notebooks/master/term1/nlp/digikala/digikala_model.pt'\n",
        "\n",
        "os.makedirs(os.path.dirname(OUTPUT_PATH), exist_ok=True)"
      ],
      "execution_count": null,
      "outputs": []
    },
    {
      "cell_type": "code",
      "source": [
        "# setup the tokenizer and configuration\n",
        "\n",
        "tokenizer = BertTokenizer.from_pretrained(MODEL_NAME)\n",
        "config = BertConfig.from_pretrained(\n",
        "    MODEL_NAME)\n",
        "\n",
        "print(config.to_json_string())"
      ],
      "metadata": {
        "colab": {
          "base_uri": "https://localhost:8080/"
        },
        "id": "6MVueEsVLM53",
        "outputId": "37cd0041-5c55-4cbe-e070-3a4ec54c85a9"
      },
      "execution_count": null,
      "outputs": [
        {
          "output_type": "stream",
          "name": "stdout",
          "text": [
            "{\n",
            "  \"architectures\": [\n",
            "    \"BertForMaskedLM\"\n",
            "  ],\n",
            "  \"attention_probs_dropout_prob\": 0.1,\n",
            "  \"classifier_dropout\": null,\n",
            "  \"hidden_act\": \"gelu\",\n",
            "  \"hidden_dropout_prob\": 0.1,\n",
            "  \"hidden_size\": 768,\n",
            "  \"initializer_range\": 0.02,\n",
            "  \"intermediate_size\": 3072,\n",
            "  \"layer_norm_eps\": 1e-12,\n",
            "  \"max_position_embeddings\": 512,\n",
            "  \"model_type\": \"bert\",\n",
            "  \"num_attention_heads\": 12,\n",
            "  \"num_hidden_layers\": 12,\n",
            "  \"pad_token_id\": 0,\n",
            "  \"position_embedding_type\": \"absolute\",\n",
            "  \"transformers_version\": \"4.15.0\",\n",
            "  \"type_vocab_size\": 2,\n",
            "  \"use_cache\": true,\n",
            "  \"vocab_size\": 100000\n",
            "}\n",
            "\n"
          ]
        }
      ]
    },
    {
      "cell_type": "code",
      "source": [
        "config.num_labels"
      ],
      "metadata": {
        "colab": {
          "base_uri": "https://localhost:8080/"
        },
        "id": "OqvobYgfbC-F",
        "outputId": "ab35778a-5012-47c7-b543-e12fdd8c69ad"
      },
      "execution_count": null,
      "outputs": [
        {
          "output_type": "execute_result",
          "data": {
            "text/plain": [
              "2"
            ]
          },
          "metadata": {},
          "execution_count": 45
        }
      ]
    },
    {
      "cell_type": "markdown",
      "source": [
        "### split"
      ],
      "metadata": {
        "id": "ILlfDQHEMVio"
      }
    },
    {
      "cell_type": "code",
      "source": [
        "X_train, X_test, X_val, Y_train, Y_test, Y_val = train_test_val_spiliting(df['comment'],df['verification_status'])"
      ],
      "metadata": {
        "colab": {
          "base_uri": "https://localhost:8080/"
        },
        "id": "iTyBLF4eMY5c",
        "outputId": "e5ddeeaa-61d4-477d-9a2f-30801a47a752"
      },
      "execution_count": null,
      "outputs": [
        {
          "output_type": "stream",
          "name": "stdout",
          "text": [
            "X_train lenght: 4797\n",
            "X_test lenght: 1599\n",
            "X_val lenght: 1599\n"
          ]
        }
      ]
    },
    {
      "cell_type": "markdown",
      "source": [
        "### Embedding"
      ],
      "metadata": {
        "id": "75VmD_YENAj0"
      }
    },
    {
      "cell_type": "code",
      "metadata": {
        "id": "3BIajCqGgYEG",
        "colab": {
          "base_uri": "https://localhost:8080/"
        },
        "outputId": "63fe901f-2b01-41b9-db5d-22ebf88ed7ff"
      },
      "source": [
        "sample_comment = X_train[154793]\n",
        "sample_label = Y_train[154793]\n",
        "\n",
        "print(f'Sample: \\n{sample_comment}\\n{sample_label}')"
      ],
      "execution_count": null,
      "outputs": [
        {
          "output_type": "stream",
          "name": "stdout",
          "text": [
            "Sample: \n",
            "با خرید شگفت انگیزش موافقم.\n",
            "0\n"
          ]
        }
      ]
    },
    {
      "cell_type": "code",
      "metadata": {
        "id": "ygnLJu8uhjPT",
        "colab": {
          "base_uri": "https://localhost:8080/"
        },
        "outputId": "6c805687-4e04-4182-f0b9-0a88855c036d"
      },
      "source": [
        "tokens = tokenizer.tokenize(sample_comment)\n",
        "token_ids = tokenizer.convert_tokens_to_ids(tokens)\n",
        "\n",
        "print(f'  Comment: {sample_comment}')\n",
        "print(f'   Tokens: {tokenizer.convert_tokens_to_string(tokens)}')\n",
        "print(f'Token IDs: {token_ids}')"
      ],
      "execution_count": null,
      "outputs": [
        {
          "output_type": "stream",
          "name": "stdout",
          "text": [
            "  Comment: با خرید شگفت انگیزش موافقم.\n",
            "   Tokens: با خرید شگفت انگیزش موافقم .\n",
            "Token IDs: [2799, 3535, 6602, 26647, 39015, 1012]\n"
          ]
        }
      ]
    },
    {
      "cell_type": "code",
      "metadata": {
        "id": "jgsgZ2b5h2I4",
        "colab": {
          "base_uri": "https://localhost:8080/"
        },
        "outputId": "c95be55a-43be-48b3-f7e2-aceeda90b942"
      },
      "source": [
        "encoding = tokenizer.encode_plus(\n",
        "    sample_comment,\n",
        "    max_length = MAX_LEN,\n",
        "    pad_to_max_length=True,\n",
        "    truncation=True\n",
        ")\n",
        "\n",
        "print(f'Keys: {encoding.keys()}\\n')\n",
        "for k in encoding.keys():\n",
        "    print(f'{k}:\\n{encoding[k]}')"
      ],
      "execution_count": null,
      "outputs": [
        {
          "output_type": "stream",
          "name": "stdout",
          "text": [
            "Keys: dict_keys(['input_ids', 'token_type_ids', 'attention_mask'])\n",
            "\n",
            "input_ids:\n",
            "[2, 2799, 3535, 6602, 26647, 39015, 1012, 4, 0, 0, 0, 0, 0, 0, 0, 0, 0, 0, 0, 0, 0, 0, 0, 0, 0, 0, 0, 0, 0, 0, 0, 0, 0, 0, 0, 0, 0, 0, 0, 0, 0, 0, 0, 0, 0, 0, 0, 0, 0, 0, 0, 0, 0, 0, 0, 0, 0, 0, 0, 0, 0, 0, 0, 0, 0, 0, 0, 0, 0, 0, 0, 0, 0, 0, 0, 0, 0, 0, 0, 0, 0, 0, 0, 0, 0, 0, 0, 0, 0, 0, 0, 0, 0, 0, 0, 0, 0, 0, 0, 0]\n",
            "token_type_ids:\n",
            "[0, 0, 0, 0, 0, 0, 0, 0, 0, 0, 0, 0, 0, 0, 0, 0, 0, 0, 0, 0, 0, 0, 0, 0, 0, 0, 0, 0, 0, 0, 0, 0, 0, 0, 0, 0, 0, 0, 0, 0, 0, 0, 0, 0, 0, 0, 0, 0, 0, 0, 0, 0, 0, 0, 0, 0, 0, 0, 0, 0, 0, 0, 0, 0, 0, 0, 0, 0, 0, 0, 0, 0, 0, 0, 0, 0, 0, 0, 0, 0, 0, 0, 0, 0, 0, 0, 0, 0, 0, 0, 0, 0, 0, 0, 0, 0, 0, 0, 0, 0]\n",
            "attention_mask:\n",
            "[1, 1, 1, 1, 1, 1, 1, 1, 0, 0, 0, 0, 0, 0, 0, 0, 0, 0, 0, 0, 0, 0, 0, 0, 0, 0, 0, 0, 0, 0, 0, 0, 0, 0, 0, 0, 0, 0, 0, 0, 0, 0, 0, 0, 0, 0, 0, 0, 0, 0, 0, 0, 0, 0, 0, 0, 0, 0, 0, 0, 0, 0, 0, 0, 0, 0, 0, 0, 0, 0, 0, 0, 0, 0, 0, 0, 0, 0, 0, 0, 0, 0, 0, 0, 0, 0, 0, 0, 0, 0, 0, 0, 0, 0, 0, 0, 0, 0, 0, 0]\n"
          ]
        },
        {
          "output_type": "stream",
          "name": "stderr",
          "text": [
            "/usr/local/lib/python3.7/dist-packages/transformers/tokenization_utils_base.py:2232: FutureWarning: The `pad_to_max_length` argument is deprecated and will be removed in a future version, use `padding=True` or `padding='longest'` to pad to the longest sequence in the batch, or use `padding='max_length'` to pad to a max length. In this case, you can give a specific length with `max_length` (e.g. `max_length=45`) or leave max_length to None to pad to the maximal input size of the model (e.g. 512 for Bert).\n",
            "  FutureWarning,\n"
          ]
        }
      ]
    },
    {
      "cell_type": "markdown",
      "source": [
        "### Dataloader"
      ],
      "metadata": {
        "id": "2Rn0z6AQjKoz"
      }
    },
    {
      "cell_type": "code",
      "source": [
        "def create_dataloader(data, label):\n",
        "  tokens_data = tokenizer.batch_encode_plus(\n",
        "    data.tolist(),\n",
        "    max_length = MAX_LEN,\n",
        "    pad_to_max_length=True,\n",
        "    truncation=True,\n",
        "    # return_token_type_ids=True,\n",
        "    # padding='max_length',\n",
        "    return_attention_mask=True,\n",
        "    # return_tensors='pt'\n",
        ")\n",
        "  data_seq = torch.tensor(tokens_data['input_ids'])\n",
        "  data_mask = torch.tensor(tokens_data['attention_mask'])\n",
        "  data_y = torch.tensor(label.tolist())\n",
        "\n",
        "  # wrap tensors\n",
        "  wrap_data = TensorDataset(data_seq, data_mask, data_y)\n",
        "\n",
        "  # sampler for sampling the data during training\n",
        "  data_sampler = RandomSampler(wrap_data)\n",
        "\n",
        "  # dataLoader for train set\n",
        "  dataloader = torch.utils.data.DataLoader(wrap_data, sampler=data_sampler, batch_size=BATCH_SIZE)\n",
        "\n",
        "  return dataloader, tokens_data\n"
      ],
      "metadata": {
        "id": "RuKyoV1TXtnJ"
      },
      "execution_count": null,
      "outputs": []
    },
    {
      "cell_type": "code",
      "source": [
        "train_dataloader, tokens_train = create_dataloader(X_train, Y_train)"
      ],
      "metadata": {
        "colab": {
          "base_uri": "https://localhost:8080/"
        },
        "id": "FIXjHbYiYs1s",
        "outputId": "d336cf70-475f-49d0-9d6a-7f38796ddb66"
      },
      "execution_count": null,
      "outputs": [
        {
          "output_type": "stream",
          "name": "stderr",
          "text": [
            "/usr/local/lib/python3.7/dist-packages/transformers/tokenization_utils_base.py:2232: FutureWarning: The `pad_to_max_length` argument is deprecated and will be removed in a future version, use `padding=True` or `padding='longest'` to pad to the longest sequence in the batch, or use `padding='max_length'` to pad to a max length. In this case, you can give a specific length with `max_length` (e.g. `max_length=45`) or leave max_length to None to pad to the maximal input size of the model (e.g. 512 for Bert).\n",
            "  FutureWarning,\n"
          ]
        }
      ]
    },
    {
      "cell_type": "code",
      "source": [
        "test_dataloader, tokens_test = create_dataloader(X_test, Y_test)"
      ],
      "metadata": {
        "colab": {
          "base_uri": "https://localhost:8080/"
        },
        "id": "VO1JxIw3Y-Vf",
        "outputId": "cc28aec7-4f73-409a-ffde-3d8018eda6a6"
      },
      "execution_count": null,
      "outputs": [
        {
          "output_type": "stream",
          "name": "stderr",
          "text": [
            "/usr/local/lib/python3.7/dist-packages/transformers/tokenization_utils_base.py:2232: FutureWarning: The `pad_to_max_length` argument is deprecated and will be removed in a future version, use `padding=True` or `padding='longest'` to pad to the longest sequence in the batch, or use `padding='max_length'` to pad to a max length. In this case, you can give a specific length with `max_length` (e.g. `max_length=45`) or leave max_length to None to pad to the maximal input size of the model (e.g. 512 for Bert).\n",
            "  FutureWarning,\n"
          ]
        }
      ]
    },
    {
      "cell_type": "code",
      "source": [
        "val_dataloader, tokens_val = create_dataloader(X_val, Y_val)"
      ],
      "metadata": {
        "colab": {
          "base_uri": "https://localhost:8080/"
        },
        "id": "dvltxE5-u5Ea",
        "outputId": "de052bfd-52af-4f44-ee83-122e0d425b8e"
      },
      "execution_count": null,
      "outputs": [
        {
          "output_type": "stream",
          "name": "stderr",
          "text": [
            "/usr/local/lib/python3.7/dist-packages/transformers/tokenization_utils_base.py:2232: FutureWarning: The `pad_to_max_length` argument is deprecated and will be removed in a future version, use `padding=True` or `padding='longest'` to pad to the longest sequence in the batch, or use `padding='max_length'` to pad to a max length. In this case, you can give a specific length with `max_length` (e.g. `max_length=45`) or leave max_length to None to pad to the maximal input size of the model (e.g. 512 for Bert).\n",
            "  FutureWarning,\n"
          ]
        }
      ]
    },
    {
      "cell_type": "code",
      "metadata": {
        "id": "_qSxzPU2krDk",
        "colab": {
          "base_uri": "https://localhost:8080/"
        },
        "outputId": "99f53140-9681-493b-cb94-63c092478bd6"
      },
      "source": [
        "sample_data = next(iter(train_dataloader))\n",
        "print(sample_data)"
      ],
      "execution_count": null,
      "outputs": [
        {
          "output_type": "stream",
          "name": "stdout",
          "text": [
            "[tensor([[    2, 13110,  5402,  ...,  2800, 22367,     4],\n",
            "        [    2,  5668,  8629,  ...,     0,     0,     0],\n",
            "        [    2,  4589,  8188,  ...,     0,     0,     0],\n",
            "        ...,\n",
            "        [    2,  2789, 11053,  ...,     0,     0,     0],\n",
            "        [    2,  4219,  8745,  ...,     0,     0,     0],\n",
            "        [    2, 38334,  8474,  ...,     0,     0,     0]]), tensor([[1, 1, 1,  ..., 1, 1, 1],\n",
            "        [1, 1, 1,  ..., 0, 0, 0],\n",
            "        [1, 1, 1,  ..., 0, 0, 0],\n",
            "        ...,\n",
            "        [1, 1, 1,  ..., 0, 0, 0],\n",
            "        [1, 1, 1,  ..., 0, 0, 0],\n",
            "        [1, 1, 1,  ..., 0, 0, 0]]), tensor([0, 0, 0, 1, 1, 1, 0, 0, 1, 0, 0, 0, 0, 1, 0, 0, 0, 0, 1, 0, 0, 0, 0, 0,\n",
            "        0, 0, 0, 0, 0, 0, 0, 0])]\n"
          ]
        }
      ]
    },
    {
      "cell_type": "markdown",
      "source": [
        "### Model "
      ],
      "metadata": {
        "id": "9vQc2iOUZ-3b"
      }
    },
    {
      "cell_type": "code",
      "source": [
        "import torch, gc\n",
        "\n",
        "gc.collect()\n",
        "torch.cuda.empty_cache()\n",
        "\n",
        "!nvidia-smi"
      ],
      "metadata": {
        "colab": {
          "base_uri": "https://localhost:8080/"
        },
        "id": "GhZqCIg0YSs_",
        "outputId": "0064ac43-db07-4aef-e884-ccbbf6b31293"
      },
      "execution_count": null,
      "outputs": [
        {
          "output_type": "stream",
          "name": "stdout",
          "text": [
            "Sat Jan  1 16:59:02 2022       \n",
            "+-----------------------------------------------------------------------------+\n",
            "| NVIDIA-SMI 495.44       Driver Version: 460.32.03    CUDA Version: 11.2     |\n",
            "|-------------------------------+----------------------+----------------------+\n",
            "| GPU  Name        Persistence-M| Bus-Id        Disp.A | Volatile Uncorr. ECC |\n",
            "| Fan  Temp  Perf  Pwr:Usage/Cap|         Memory-Usage | GPU-Util  Compute M. |\n",
            "|                               |                      |               MIG M. |\n",
            "|===============================+======================+======================|\n",
            "|   0  Tesla K80           Off  | 00000000:00:04.0 Off |                    0 |\n",
            "| N/A   34C    P8    27W / 149W |      3MiB / 11441MiB |      0%      Default |\n",
            "|                               |                      |                  N/A |\n",
            "+-------------------------------+----------------------+----------------------+\n",
            "                                                                               \n",
            "+-----------------------------------------------------------------------------+\n",
            "| Processes:                                                                  |\n",
            "|  GPU   GI   CI        PID   Type   Process name                  GPU Memory |\n",
            "|        ID   ID                                                   Usage      |\n",
            "|=============================================================================|\n",
            "|  No running processes found                                                 |\n",
            "+-----------------------------------------------------------------------------+\n"
          ]
        }
      ]
    },
    {
      "cell_type": "code",
      "source": [
        "# import BERT-base pretrained model\n",
        "bert = BertModel.from_pretrained(MODEL_NAME, return_dict=False)"
      ],
      "metadata": {
        "colab": {
          "base_uri": "https://localhost:8080/"
        },
        "id": "v_3LoaHolRVf",
        "outputId": "04a3dea2-2572-4cd0-cb44-a705cfecc28c"
      },
      "execution_count": null,
      "outputs": [
        {
          "output_type": "stream",
          "name": "stderr",
          "text": [
            "Some weights of the model checkpoint at HooshvareLab/bert-fa-base-uncased were not used when initializing BertModel: ['cls.predictions.transform.dense.weight', 'cls.predictions.decoder.bias', 'cls.predictions.transform.dense.bias', 'cls.predictions.decoder.weight', 'cls.predictions.transform.LayerNorm.bias', 'cls.predictions.transform.LayerNorm.weight', 'cls.seq_relationship.weight', 'cls.seq_relationship.bias', 'cls.predictions.bias']\n",
            "- This IS expected if you are initializing BertModel from the checkpoint of a model trained on another task or with another architecture (e.g. initializing a BertForSequenceClassification model from a BertForPreTraining model).\n",
            "- This IS NOT expected if you are initializing BertModel from the checkpoint of a model that you expect to be exactly identical (initializing a BertForSequenceClassification model from a BertForSequenceClassification model).\n"
          ]
        }
      ]
    },
    {
      "cell_type": "code",
      "source": [
        "# freeze all the parameters\n",
        "for param in bert.parameters():\n",
        "    param.requires_grad = False"
      ],
      "metadata": {
        "id": "Maw87TgflI6S"
      },
      "execution_count": null,
      "outputs": []
    },
    {
      "cell_type": "code",
      "source": [
        "class BERT_model(nn.Module):\n",
        "\n",
        "    def __init__(self, bert):\n",
        "      \n",
        "      super(BERT_model, self).__init__()\n",
        "\n",
        "      self.bert = bert \n",
        "      self.dropout = nn.Dropout(0.1)\n",
        "      self.relu =  nn.ReLU()\n",
        "      self.fc1 = nn.Linear(768,512)\n",
        "      self.fc2 = nn.Linear(512,2)\n",
        "      self.softmax = nn.LogSoftmax(dim=1)\n",
        "\n",
        "    #define the forward pass\n",
        "    def forward(self, sent_id, mask):\n",
        "\n",
        "      _, cls_hs = self.bert(sent_id, attention_mask=mask)\n",
        "      x = self.fc1(cls_hs)\n",
        "      x = self.relu(x)\n",
        "      x = self.dropout(x)\n",
        "      x = self.fc2(x)\n",
        "      x = self.softmax(x)\n",
        "\n",
        "      return x\n"
      ],
      "metadata": {
        "id": "O3_eTKovmiZQ"
      },
      "execution_count": null,
      "outputs": []
    },
    {
      "cell_type": "code",
      "source": [
        "model = BERT_model(bert)\n",
        "model = model.to(device)"
      ],
      "metadata": {
        "id": "oXpzhhOwnQgw"
      },
      "execution_count": null,
      "outputs": []
    },
    {
      "cell_type": "code",
      "metadata": {
        "colab": {
          "base_uri": "https://localhost:8080/"
        },
        "id": "tZ6NrQxaWCcW",
        "outputId": "458fa884-f57a-48b1-db9f-a3fd8bff0545"
      },
      "source": [
        "params = list(model.named_parameters())\n",
        "print('The Bert model has {:} different named parameters. \\n'.format(len(params)))"
      ],
      "execution_count": null,
      "outputs": [
        {
          "output_type": "stream",
          "name": "stdout",
          "text": [
            "The Bert model has 203 different named parameters. \n",
            "\n"
          ]
        }
      ]
    },
    {
      "cell_type": "code",
      "metadata": {
        "id": "4Bxhyr25WEih"
      },
      "source": [
        "optimizer = AdamW(model.parameters(), lr = 2e-5, eps = 1e-8)"
      ],
      "execution_count": null,
      "outputs": []
    },
    {
      "cell_type": "markdown",
      "source": [
        "### Train function"
      ],
      "metadata": {
        "id": "xbS5aQg6xBBE"
      }
    },
    {
      "cell_type": "code",
      "source": [
        "# train the model for one epoch\n",
        "def train(train_dataloader):\n",
        "  \n",
        "  model.train()\n",
        "\n",
        "  total_loss, total_accuracy = 0, 0\n",
        " \n",
        "  total_preds=[]\n",
        "\n",
        "  for step,batch in enumerate(train_dataloader):\n",
        "    \n",
        "    if step % 100 == 0 and not step == 0:\n",
        "      print('  Batch {:>5,}  of  {:>5,}.'.format(step, len(train_dataloader)))\n",
        "\n",
        "    batch = [r.to(device) for r in batch]\n",
        "    model.zero_grad()        \n",
        "\n",
        "    # get model predictions for the current batch\n",
        "    preds = model(batch[0].to(device), batch[1].to(device))\n",
        "    loss = cross_entropy(preds, batch[2].to(device))\n",
        "    total_loss = total_loss + loss.item()\n",
        "\n",
        "    loss.backward()\n",
        "\n",
        "    torch.nn.utils.clip_grad_norm_(model.parameters(), 1.0)\n",
        "\n",
        "    optimizer.step()\n",
        "    preds=preds.detach().cpu().numpy()\n",
        "    total_preds.append(preds)\n",
        "\n",
        "  avg_loss = total_loss / len(train_dataloader)\n",
        "  total_preds  = np.concatenate(total_preds, axis=0)\n",
        "\n",
        "  return avg_loss, total_preds\n"
      ],
      "metadata": {
        "id": "3vFya1uQtQwb"
      },
      "execution_count": null,
      "outputs": []
    },
    {
      "cell_type": "markdown",
      "source": [
        "### Validation function"
      ],
      "metadata": {
        "id": "ol8KfyRoxKls"
      }
    },
    {
      "cell_type": "code",
      "source": [
        "# evaluating the model for onr epoch\n",
        "def evaluate(val_dataloader):\n",
        "\n",
        "  model.eval()\n",
        "\n",
        "  total_loss, total_accuracy = 0, 0\n",
        "\n",
        "  total_preds = []\n",
        "\n",
        "  for step,batch in enumerate(val_dataloader):\n",
        "  \n",
        "    if step % 100 == 0 and not step == 0:\n",
        "      print('  Batch {:>5,}  of  {:>5,}.'.format(step, len(val_dataloader)))\n",
        "\n",
        "    batch = [t.to(device) for t in batch]\n",
        "\n",
        "    with torch.no_grad():\n",
        "      \n",
        "      preds = model(batch[0].to(device), batch[1].to(device))\n",
        "      loss = cross_entropy(preds,batch[2].to(device))\n",
        "      total_loss = total_loss + loss.item()\n",
        "\n",
        "      preds = preds.detach().cpu().numpy()\n",
        "\n",
        "      total_preds.append(preds)\n",
        "\n",
        "  avg_loss = total_loss / len(val_dataloader) \n",
        "  total_preds  = np.concatenate(total_preds, axis=0)\n",
        "\n",
        "  return avg_loss, total_preds"
      ],
      "metadata": {
        "id": "g6L4HYrzvtjk"
      },
      "execution_count": null,
      "outputs": []
    },
    {
      "cell_type": "markdown",
      "source": [
        "### Taining the model"
      ],
      "metadata": {
        "id": "AQ_zbDJsxc64"
      }
    },
    {
      "cell_type": "code",
      "source": [
        "def training_the_model(train_dataloader,val_dataloader,epochs):\n",
        "  best_valid_loss = float('inf')\n",
        "\n",
        "  train_losses=[]\n",
        "  valid_losses=[]\n",
        "\n",
        "  for epoch in range(epochs):\n",
        "      \n",
        "      print('\\n Epoch {:} / {:}'.format(epoch + 1, epochs))\n",
        "      \n",
        "      train_loss, _ = train(train_dataloader)\n",
        "\n",
        "      valid_loss, _ = evaluate(val_dataloader)\n",
        "      \n",
        "      #save model\n",
        "      if valid_loss < best_valid_loss:\n",
        "          best_valid_loss = valid_loss\n",
        "          torch.save(model.state_dict(),OUTPUT_PATH)\n",
        "    \n",
        "      train_losses.append(train_loss)\n",
        "      valid_losses.append(valid_loss)\n",
        "      \n",
        "      print('\\nTraining Loss: {}'.format(train_loss))\n",
        "      print('Validation Loss: {}'.format(valid_loss))\n",
        "      print(\"#\"*20)"
      ],
      "metadata": {
        "id": "C033N3n_vuOD"
      },
      "execution_count": null,
      "outputs": []
    },
    {
      "cell_type": "code",
      "source": [
        "training_the_model(train_dataloader,val_dataloader,EPOCHS)"
      ],
      "metadata": {
        "colab": {
          "base_uri": "https://localhost:8080/"
        },
        "id": "A5ml873RzZqm",
        "outputId": "09ff6a04-5c00-4f77-dd58-6fdfc1414e09"
      },
      "execution_count": null,
      "outputs": [
        {
          "output_type": "stream",
          "name": "stdout",
          "text": [
            "\n",
            " Epoch 1 / 10\n",
            "  Batch   100  of    150.\n",
            "\n",
            "Training Loss: 0.5722006227572759\n",
            "Validation Loss: 0.5460432094335556\n",
            "####################\n",
            "\n",
            " Epoch 2 / 10\n",
            "  Batch   100  of    150.\n",
            "\n",
            "Training Loss: 0.5530822608868281\n",
            "Validation Loss: 0.5403047460317612\n",
            "####################\n",
            "\n",
            " Epoch 3 / 10\n",
            "  Batch   100  of    150.\n",
            "\n",
            "Training Loss: 0.5377244261900583\n",
            "Validation Loss: 0.5342468559741974\n",
            "####################\n",
            "\n",
            " Epoch 4 / 10\n",
            "  Batch   100  of    150.\n",
            "\n",
            "Training Loss: 0.5366067852576574\n",
            "Validation Loss: 0.5248927062749863\n",
            "####################\n",
            "\n",
            " Epoch 5 / 10\n",
            "  Batch   100  of    150.\n",
            "\n",
            "Training Loss: 0.5280563648541768\n",
            "Validation Loss: 0.5255464988946915\n",
            "####################\n",
            "\n",
            " Epoch 6 / 10\n",
            "  Batch   100  of    150.\n",
            "\n",
            "Training Loss: 0.5189530223608017\n",
            "Validation Loss: 0.5111493104696274\n",
            "####################\n",
            "\n",
            " Epoch 7 / 10\n",
            "  Batch   100  of    150.\n",
            "\n",
            "Training Loss: 0.5160678664843241\n",
            "Validation Loss: 0.5240819397568702\n",
            "####################\n",
            "\n",
            " Epoch 8 / 10\n",
            "  Batch   100  of    150.\n",
            "\n",
            "Training Loss: 0.5137577497959137\n",
            "Validation Loss: 0.5367699825763702\n",
            "####################\n",
            "\n",
            " Epoch 9 / 10\n",
            "  Batch   100  of    150.\n",
            "\n",
            "Training Loss: 0.5091316600640615\n",
            "Validation Loss: 0.5349578753113746\n",
            "####################\n",
            "\n",
            " Epoch 10 / 10\n",
            "  Batch   100  of    150.\n",
            "\n",
            "Training Loss: 0.5123714391390483\n",
            "Validation Loss: 0.5051643794775009\n",
            "####################\n"
          ]
        }
      ]
    },
    {
      "cell_type": "markdown",
      "source": [
        "### Load saved model"
      ],
      "metadata": {
        "id": "vEfWkim9y423"
      }
    },
    {
      "cell_type": "code",
      "source": [
        "model.load_state_dict(torch.load(OUTPUT_PATH))"
      ],
      "metadata": {
        "colab": {
          "base_uri": "https://localhost:8080/"
        },
        "id": "3wPQ8Dexy_8o",
        "outputId": "d8ae9d02-2a9c-4952-e628-f9ff8dd394ce"
      },
      "execution_count": null,
      "outputs": [
        {
          "output_type": "execute_result",
          "data": {
            "text/plain": [
              "<All keys matched successfully>"
            ]
          },
          "metadata": {},
          "execution_count": 198
        }
      ]
    },
    {
      "cell_type": "markdown",
      "source": [
        "### Prediction"
      ],
      "metadata": {
        "id": "S9BJyjCvytjE"
      }
    },
    {
      "cell_type": "code",
      "source": [
        "with torch.no_grad():\n",
        "  test_seq = torch.tensor(tokens_test['input_ids'])\n",
        "  test_mask = torch.tensor(tokens_test['attention_mask'])\n",
        "  preds = model(test_seq.to(device), test_mask.to(device))\n",
        "  preds = preds.detach().cpu().numpy()"
      ],
      "metadata": {
        "id": "amhwKwMlys-x"
      },
      "execution_count": null,
      "outputs": []
    },
    {
      "cell_type": "code",
      "source": [
        "# model's performance\n",
        "preds = np.argmax(preds, axis = 1)\n",
        "print(classification_report(Y_test, preds))"
      ],
      "metadata": {
        "colab": {
          "base_uri": "https://localhost:8080/"
        },
        "id": "L9WLkR5ey2IP",
        "outputId": "a1c63278-053a-45dc-90b3-5c394d94e32b"
      },
      "execution_count": null,
      "outputs": [
        {
          "output_type": "stream",
          "name": "stdout",
          "text": [
            "              precision    recall  f1-score   support\n",
            "\n",
            "           0       0.95      0.79      0.86      1382\n",
            "           1       0.35      0.72      0.47       217\n",
            "\n",
            "    accuracy                           0.78      1599\n",
            "   macro avg       0.65      0.76      0.67      1599\n",
            "weighted avg       0.87      0.78      0.81      1599\n",
            "\n"
          ]
        }
      ]
    },
    {
      "cell_type": "code",
      "source": [
        ""
      ],
      "metadata": {
        "id": "fS5_94lB9Rgd"
      },
      "execution_count": null,
      "outputs": []
    }
  ],
  "metadata": {
    "colab": {
      "name": "DigikalaComments.ipynb",
      "toc_visible": true,
      "provenance": []
    },
    "kernelspec": {
      "display_name": "Python 3",
      "name": "python3"
    },
    "language_info": {
      "name": "python"
    },
    "accelerator": "GPU"
  },
  "nbformat": 4,
  "nbformat_minor": 0
}